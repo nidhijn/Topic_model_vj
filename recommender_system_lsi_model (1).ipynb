{
 "cells": [
  {
   "cell_type": "markdown",
   "metadata": {},
   "source": [
    "## Import packages\n"
   ]
  },
  {
   "cell_type": "code",
   "execution_count": 1,
   "metadata": {},
   "outputs": [],
   "source": [
    "import pandas as pd\n",
    "import nltk\n",
    "import numpy\n",
    "import spacy\n",
    "import textacy\n",
    "import re\n",
    "from pprint import pprint\n",
    "\n",
    "import gensim\n",
    "import gensim.corpora as corpora\n",
    "from gensim.utils import simple_preprocess\n",
    "from gensim.models import CoherenceModel\n",
    "\n",
    "from gensim.models import ldamulticore\n",
    "from nltk.stem import WordNetLemmatizer\n",
    "from gensim import corpora, models, similarities, matutils\n",
    "from sklearn.decomposition import TruncatedSVD\n",
    "from nltk.tokenize import RegexpTokenizer\n",
    "from nltk.stem import LancasterStemmer, PorterStemmer\n",
    "\n",
    "from gensim.models import CoherenceModel, LdaModel, LsiModel, HdpModel\n",
    "from gensim.utils import simple_preprocess\n",
    "\n",
    "\n",
    "import logging\n",
    "logging.basicConfig(format='%(asctime)s : %(levelname)s : %(message)s', level=logging.INFO)"
   ]
  },
  {
   "cell_type": "markdown",
   "metadata": {},
   "source": [
    "### importing data "
   ]
  },
  {
   "cell_type": "code",
   "execution_count": 2,
   "metadata": {},
   "outputs": [],
   "source": [
    "df_chats=pd.read_csv('C:/Users/52100722/Desktop/nidhi/chatlog_honeywell/CHATTRANSCRIPT_20181205_1200.csv',\n",
    "                    delimiter='\\t', encoding='1252')\n",
    "df_chats.dropna(inplace=True)"
   ]
  },
  {
   "cell_type": "markdown",
   "metadata": {},
   "source": [
    "### Data preperation"
   ]
  },
  {
   "cell_type": "code",
   "execution_count": 7,
   "metadata": {},
   "outputs": [
    {
     "data": {
      "text/html": [
       "<div>\n",
       "<style scoped>\n",
       "    .dataframe tbody tr th:only-of-type {\n",
       "        vertical-align: middle;\n",
       "    }\n",
       "\n",
       "    .dataframe tbody tr th {\n",
       "        vertical-align: top;\n",
       "    }\n",
       "\n",
       "    .dataframe thead th {\n",
       "        text-align: right;\n",
       "    }\n",
       "</style>\n",
       "<table border=\"1\" class=\"dataframe\">\n",
       "  <thead>\n",
       "    <tr style=\"text-align: right;\">\n",
       "      <th></th>\n",
       "      <th>UniqueID</th>\n",
       "      <th>SessionID</th>\n",
       "      <th>ServiceLine</th>\n",
       "      <th>Date/Time</th>\n",
       "      <th>Origin</th>\n",
       "      <th>Message</th>\n",
       "    </tr>\n",
       "  </thead>\n",
       "  <tbody>\n",
       "    <tr>\n",
       "      <th>3</th>\n",
       "      <td>4</td>\n",
       "      <td>144209</td>\n",
       "      <td>Honeywell US</td>\n",
       "      <td>03:45.0</td>\n",
       "      <td>H Eugene Talbott                              ...</td>\n",
       "      <td>H&amp;I</td>\n",
       "    </tr>\n",
       "    <tr>\n",
       "      <th>7</th>\n",
       "      <td>8</td>\n",
       "      <td>144209</td>\n",
       "      <td>Honeywell US</td>\n",
       "      <td>03:55.0</td>\n",
       "      <td>Virgilio Dela Pena</td>\n",
       "      <td>Thank you for chatting with us today. How can ...</td>\n",
       "    </tr>\n",
       "    <tr>\n",
       "      <th>8</th>\n",
       "      <td>9</td>\n",
       "      <td>144209</td>\n",
       "      <td>Honeywell US</td>\n",
       "      <td>05:05.0</td>\n",
       "      <td>H Eugene Talbott                              ...</td>\n",
       "      <td>Good Morning Virgilio - I have a case open on ...</td>\n",
       "    </tr>\n",
       "    <tr>\n",
       "      <th>11</th>\n",
       "      <td>12</td>\n",
       "      <td>144209</td>\n",
       "      <td>Honeywell US</td>\n",
       "      <td>05:17.0</td>\n",
       "      <td>H Eugene Talbott                              ...</td>\n",
       "      <td>And am checking in on the case to see what the...</td>\n",
       "    </tr>\n",
       "    <tr>\n",
       "      <th>12</th>\n",
       "      <td>13</td>\n",
       "      <td>144209</td>\n",
       "      <td>Honeywell US</td>\n",
       "      <td>05:18.0</td>\n",
       "      <td>Virgilio Dela Pena</td>\n",
       "      <td>I'll be happy to assist you with that. It will...</td>\n",
       "    </tr>\n",
       "  </tbody>\n",
       "</table>\n",
       "</div>"
      ],
      "text/plain": [
       "    UniqueID  SessionID   ServiceLine Date/Time  \\\n",
       "3          4     144209  Honeywell US   03:45.0   \n",
       "7          8     144209  Honeywell US   03:55.0   \n",
       "8          9     144209  Honeywell US   05:05.0   \n",
       "11        12     144209  Honeywell US   05:17.0   \n",
       "12        13     144209  Honeywell US   05:18.0   \n",
       "\n",
       "                                               Origin  \\\n",
       "3   H Eugene Talbott                              ...   \n",
       "7                                  Virgilio Dela Pena   \n",
       "8   H Eugene Talbott                              ...   \n",
       "11  H Eugene Talbott                              ...   \n",
       "12                                 Virgilio Dela Pena   \n",
       "\n",
       "                                              Message  \n",
       "3                                                 H&I  \n",
       "7   Thank you for chatting with us today. How can ...  \n",
       "8   Good Morning Virgilio - I have a case open on ...  \n",
       "11  And am checking in on the case to see what the...  \n",
       "12  I'll be happy to assist you with that. It will...  "
      ]
     },
     "execution_count": 7,
     "metadata": {},
     "output_type": "execute_result"
    }
   ],
   "source": [
    "## Dropping messages where origin == system\n",
    "df_no_system=df_chats[df_chats.Origin!='SYSTEM']\n",
    "df_no_system.head()"
   ]
  },
  {
   "cell_type": "code",
   "execution_count": 9,
   "metadata": {
    "collapsed": true
   },
   "outputs": [
    {
     "name": "stderr",
     "output_type": "stream",
     "text": [
      "C:\\Users\\52100722\\AppData\\Local\\Continuum\\anaconda3\\lib\\site-packages\\pandas\\core\\frame.py:3940: SettingWithCopyWarning: \n",
      "A value is trying to be set on a copy of a slice from a DataFrame\n",
      "\n",
      "See the caveats in the documentation: http://pandas.pydata.org/pandas-docs/stable/indexing.html#indexing-view-versus-copy\n",
      "  errors=errors)\n"
     ]
    }
   ],
   "source": [
    "df_honeywell=df_no_system[df_no_system.ServiceLine==\"Honeywell US\"]\n",
    "df_honeywell.drop(columns=[\"UniqueID\",\"Date/Time\",\"ServiceLine\",\"Origin\"],inplace=True)\n",
    "df_honeywell[\"Message\"]=df_honeywell[\"Message\"].astype(str)\n",
    "df_honeywell=df_honeywell.groupby([\"SessionID\"]).sum()[\"Message\"]"
   ]
  },
  {
   "cell_type": "code",
   "execution_count": 11,
   "metadata": {},
   "outputs": [],
   "source": [
    "doc_honeywell=[]\n",
    "for i in range(len(df_honeywell)):\n",
    "    doc_honeywell.append(df_honeywell.iloc[i])\n",
    "    \n",
    "doc_honeywell=[i.lower() for i in doc_honeywell]"
   ]
  },
  {
   "cell_type": "code",
   "execution_count": 13,
   "metadata": {},
   "outputs": [],
   "source": [
    "df_agent=df_chats[df_chats['Message'].str.contains(' How can I help you?')]\n",
    "name_agents=(pd.unique(df_agent[\"Origin\"]))\n",
    "df_qna=pd.concat([df_no_system, df_agent, df_agent]).drop_duplicates(keep=False)"
   ]
  },
  {
   "cell_type": "markdown",
   "metadata": {},
   "source": [
    "### tokenizing the document "
   ]
  },
  {
   "cell_type": "code",
   "execution_count": 14,
   "metadata": {},
   "outputs": [],
   "source": [
    "lemmer=WordNetLemmatizer()\n",
    "stemmer = PorterStemmer()\n",
    "regex=RegexpTokenizer(\"\\\\b[a-zA-Z][a-zA-Z][a-zA-Z]+\\\\b\")\n",
    "\n",
    "def stem_tokens(tokens, stemmer):\n",
    "    stemmed = []\n",
    "    for item in tokens:\n",
    "        #stemmed.append(stemmer.stem(item))\n",
    "        stemmed.append(lemmer.lemmatize(item,\"v\"))\n",
    "    return stemmed\n",
    "\n",
    "\n",
    "def tokenize(text):\n",
    "    #text=text.lower()\n",
    "    text=re.sub(\"[\\(\\[].*?[\\)\\]]\", \"\", text)\n",
    "    tokens = regex.tokenize(text)\n",
    "    stems = stem_tokens(tokens, stemmer)\n",
    "    return stems\n",
    "\n",
    "stop  = ['thank', 'how', 'good', 'morning','this', 'can', 'okay','cayou',\n",
    "          'miss', 'spallo', 'would', 'so', 'yes', 'the','join', 'session', \n",
    "           'assign', 'new', 'create', 'accept', 'chat','h&ithank you for chatting with us today.','how can i help you?'\n",
    "            'access', 'new','click','site','since','thanks','happy','david',\"acrobat reader\",\"actionno porblemok\",\n",
    "             'already','like','send','yes','last','right','also','Virgilio',''\n",
    "             ,'give','know','would','get','make','wonderful','phone','heard','aboutthe',\n",
    "              'apologize','enjoy','welcome','assist','actually','active'\n",
    "             'want','something','heard','see','would','may','else','waiting','web','scroll'\n",
    "             'one','day','minute','see word','today','inform','using','during','beconnected','cal return'\n",
    "             'call','good','morninig','anything','need','chat','thank','calling','please','moment',\n",
    "             'check','welcome','nan','assigned','session','can','help','still','session','assist',\n",
    "             'number','checking','chatting','time','change','acknowledgment',\"customer\",\"hello\",\n",
    "              \"just\",\"minute\",\"send\",\"use\",\"try\",\"able\",\"clickyou\",\"above\",\"absolutely\",\"share\",\"connect\",]\n",
    "\n",
    "from sklearn.feature_extraction import text \n",
    "stop_wd = text.ENGLISH_STOP_WORDS.union(stop,name_agents)\n",
    "stp_wd=([i.lower() for i in stop_wd])"
   ]
  },
  {
   "cell_type": "code",
   "execution_count": 17,
   "metadata": {},
   "outputs": [],
   "source": [
    "doc_token=[tokenize(doc_honeywell[i]) for i in range(len(doc_honeywell))]\n",
    "dictionary=gensim.corpora.Dictionary(doc_token)"
   ]
  },
  {
   "cell_type": "markdown",
   "metadata": {},
   "source": [
    "### Removing stop words by vectorising the stop tokens"
   ]
  },
  {
   "cell_type": "code",
   "execution_count": 20,
   "metadata": {},
   "outputs": [],
   "source": [
    "stop_id=[dictionary.token2id[i] for i in stp_wd if i in dictionary.token2id ]       \n",
    "dictionary.filter_tokens(stop_id)\n",
    "dictionary.compactify()\n",
    "corpus=[dictionary.doc2bow(i) for i in doc_token]\n"
   ]
  },
  {
   "cell_type": "code",
   "execution_count": 24,
   "metadata": {
    "collapsed": true
   },
   "outputs": [
    {
     "name": "stderr",
     "output_type": "stream",
     "text": [
      "2019-05-29 10:08:29,401 : INFO : collecting document frequencies\n",
      "2019-05-29 10:08:29,405 : INFO : PROGRESS: processing document #0\n",
      "2019-05-29 10:08:29,496 : INFO : PROGRESS: processing document #10000\n",
      "2019-05-29 10:08:29,535 : INFO : calculating IDF weights for 13913 documents and 32061 features (528820 matrix non-zeros)\n"
     ]
    }
   ],
   "source": [
    "tfidf=models.TfidfModel(corpus)\n",
    "corpus_tfidf=tfidf[corpus]"
   ]
  },
  {
   "cell_type": "markdown",
   "metadata": {},
   "source": [
    "###  LSI model "
   ]
  },
  {
   "cell_type": "code",
   "execution_count": 27,
   "metadata": {
    "collapsed": true
   },
   "outputs": [
    {
     "name": "stderr",
     "output_type": "stream",
     "text": [
      "2019-05-29 10:09:06,474 : INFO : using serial LSI version on this node\n",
      "2019-05-29 10:09:06,475 : INFO : updating model with new documents\n",
      "2019-05-29 10:09:10,981 : INFO : preparing a new chunk of documents\n",
      "2019-05-29 10:09:11,237 : INFO : using 100 extra samples and 2 power iterations\n",
      "2019-05-29 10:09:11,238 : INFO : 1st phase: constructing (32062, 115) action matrix\n",
      "2019-05-29 10:09:11,422 : INFO : orthonormalizing (32062, 115) action matrix\n",
      "2019-05-29 10:09:12,471 : INFO : 2nd phase: running dense svd on (115, 13913) matrix\n",
      "2019-05-29 10:09:12,742 : INFO : computing the final decomposition\n",
      "2019-05-29 10:09:12,745 : INFO : keeping 15 factors (discarding 51.548% of energy spectrum)\n",
      "2019-05-29 10:09:12,768 : INFO : processed documents up to #13913\n",
      "2019-05-29 10:09:12,771 : INFO : topic #0(21.840): -0.190*\"surcharge\" + -0.154*\"benefit\" + -0.150*\"contact\" + -0.146*\"center\" + -0.146*\"screen\" + -0.140*\"biometric\" + -0.136*\"coverage\" + -0.133*\"ithank\" + -0.129*\"hear\" + -0.127*\"event\"\n",
      "2019-05-29 10:09:12,773 : INFO : topic #1(17.857): 0.985*\"ithank\" + 0.073*\"hear\" + -0.045*\"surcharge\" + -0.033*\"biometric\" + -0.032*\"screen\" + -0.027*\"complete\" + -0.026*\"quest\" + -0.024*\"receive\" + -0.024*\"result\" + -0.022*\"tobacco\"\n",
      "2019-05-29 10:09:12,775 : INFO : topic #2(14.997): -0.397*\"surcharge\" + -0.287*\"biometric\" + -0.233*\"screen\" + -0.228*\"quest\" + -0.219*\"result\" + -0.206*\"tobacco\" + 0.191*\"dental\" + -0.187*\"complete\" + 0.174*\"card\" + -0.135*\"completion\"\n",
      "2019-05-29 10:09:12,777 : INFO : topic #3(13.174): 0.803*\"hear\" + 0.386*\"assume\" + 0.334*\"assistance\" + 0.117*\"aethank\" + -0.089*\"ithank\" + -0.077*\"event\" + -0.068*\"life\" + -0.062*\"coverage\" + -0.051*\"hsa\" + -0.050*\"browse\"\n",
      "2019-05-29 10:09:12,779 : INFO : topic #4(12.193): -0.456*\"card\" + -0.357*\"dental\" + -0.209*\"metlife\" + 0.205*\"browse\" + -0.190*\"carrier\" + 0.174*\"hsa\" + 0.167*\"event\" + 0.159*\"contribution\" + -0.156*\"cigna\" + 0.131*\"hear\"\n"
     ]
    }
   ],
   "source": [
    "lsi=models.LsiModel(corpus=corpus_tfidf,num_topics=15,id2word=dictionary)"
   ]
  },
  {
   "cell_type": "code",
   "execution_count": 29,
   "metadata": {},
   "outputs": [
    {
     "data": {
      "text/html": [
       "<div>\n",
       "<style scoped>\n",
       "    .dataframe tbody tr th:only-of-type {\n",
       "        vertical-align: middle;\n",
       "    }\n",
       "\n",
       "    .dataframe tbody tr th {\n",
       "        vertical-align: top;\n",
       "    }\n",
       "\n",
       "    .dataframe thead th {\n",
       "        text-align: right;\n",
       "    }\n",
       "</style>\n",
       "<table border=\"1\" class=\"dataframe\">\n",
       "  <thead>\n",
       "    <tr style=\"text-align: right;\">\n",
       "      <th></th>\n",
       "      <th>topic_number</th>\n",
       "      <th>terms</th>\n",
       "    </tr>\n",
       "  </thead>\n",
       "  <tbody>\n",
       "    <tr>\n",
       "      <th>0</th>\n",
       "      <td>0</td>\n",
       "      <td>-0.190*\"surcharge\" + -0.154*\"benefit\" + -0.150...</td>\n",
       "    </tr>\n",
       "    <tr>\n",
       "      <th>1</th>\n",
       "      <td>1</td>\n",
       "      <td>0.985*\"ithank\" + 0.073*\"hear\" + -0.045*\"surcha...</td>\n",
       "    </tr>\n",
       "    <tr>\n",
       "      <th>2</th>\n",
       "      <td>2</td>\n",
       "      <td>-0.397*\"surcharge\" + -0.287*\"biometric\" + -0.2...</td>\n",
       "    </tr>\n",
       "    <tr>\n",
       "      <th>3</th>\n",
       "      <td>3</td>\n",
       "      <td>0.803*\"hear\" + 0.386*\"assume\" + 0.334*\"assista...</td>\n",
       "    </tr>\n",
       "    <tr>\n",
       "      <th>4</th>\n",
       "      <td>4</td>\n",
       "      <td>-0.456*\"card\" + -0.357*\"dental\" + -0.209*\"metl...</td>\n",
       "    </tr>\n",
       "  </tbody>\n",
       "</table>\n",
       "</div>"
      ],
      "text/plain": [
       "   topic_number                                              terms\n",
       "0             0  -0.190*\"surcharge\" + -0.154*\"benefit\" + -0.150...\n",
       "1             1  0.985*\"ithank\" + 0.073*\"hear\" + -0.045*\"surcha...\n",
       "2             2  -0.397*\"surcharge\" + -0.287*\"biometric\" + -0.2...\n",
       "3             3  0.803*\"hear\" + 0.386*\"assume\" + 0.334*\"assista...\n",
       "4             4  -0.456*\"card\" + -0.357*\"dental\" + -0.209*\"metl..."
      ]
     },
     "execution_count": 29,
     "metadata": {},
     "output_type": "execute_result"
    }
   ],
   "source": [
    "lsi_topic=lsi.show_topics()\n",
    "df_topic_terms=pd.DataFrame(lsi_topic,columns=[\"topic_number\",\"terms\"])\n",
    "df_topic_terms.head()"
   ]
  },
  {
   "cell_type": "markdown",
   "metadata": {},
   "source": [
    "## Recommender System"
   ]
  },
  {
   "cell_type": "markdown",
   "metadata": {},
   "source": [
    "### Identify  similar documents related to user's inputs : LSI model"
   ]
  },
  {
   "cell_type": "code",
   "execution_count": 100,
   "metadata": {},
   "outputs": [],
   "source": [
    "doc=df_honeywell.values[0:-1]"
   ]
  },
  {
   "cell_type": "code",
   "execution_count": 101,
   "metadata": {
    "collapsed": true
   },
   "outputs": [
    {
     "name": "stderr",
     "output_type": "stream",
     "text": [
      "2019-05-28 11:54:10,894 : WARNING : scanning corpus to determine the number of features (consider setting `num_features` explicitly)\n",
      "2019-05-28 11:54:11,168 : INFO : creating matrix with 13913 documents and 15 features\n"
     ]
    },
    {
     "name": "stdout",
     "output_type": "stream",
     "text": [
      "account info\n",
      "\n",
      "Score: 0.97745323\n",
      "Document: H&IHi I enrolled in my benefits but it said that I need a bank account with bank of america to get my HSAThank you for chatting with us today. How can I help you?Can you help me set up account with bank of america for HSA?I'll be happy to assist you with that. It will be just a minute while I access your records.I call bank of america and they said that this is done through honeywellLet just go ahead and check your account first.Just give me a moment please.Thank you for waiting Ms. Patterson.Since you have elected already your HSA, your Eligibility Information will be forwarded to Bank of America and a Welcome Kit will be sent to you by mail to open the account.what is in the welcome kit and why do I have to wait for the welcome kit to open the accountyou there?Welcome kit is your guide to your Health Saving Account.You need to wait for that because Eligibility Information is being process first until Bank of America received it.ok thanksbye\n",
      "\n",
      "Score: 0.96954584\n",
      "Document: AEThank you for chatting with us today. How can I help you?I am a new Honeywell employee, and just signed up for my benefitsI set up an HSA through Bank of America, but how will funds be transferred to that account? There was nothing that asked me to link the 2Welcome to Honeywell! I will be glad in assisting you. May just have a minute to pull up your account.sure thingThank you for waiting Mr. Rowland. May I know if you belong to a Transportation System Employee?I don't know what that is, so I guess not?I have not heard from you for some time.  Is there something that I may help you with?Oh I see.You asked if I belonged to a transportation system employee, and I replied that I don't know what that isI apologize, yes I got your answer.I am trying to understand how my payroll deductions make it into my Bank of America HSA that I set up, because there was no where in the setup process that asked me to link the two accounts togetherI can check that for you.Thank you for waiting, here is the process.Since you already elected your HSA, once eligibility information is received by Bank of America, you will receive a Welcome Packet to open the account.And once it is established your contribution which will be deducted from your payroll after 1-2 pay cycle will be credited.ok, the site however directed me to open the HSA directly with Bank of America, which I did independently.it never instructed me to wait for a packet in the mail. It said that no contributions can be made until Honeywell confirms that you have an account opened with BoABut it reflected here in our system that you elected for your HSA.Correct, that's what I electedbut on the confirmation screen, it gave me a warning that no contributions can be made until I opened an HSA with BoAand gave me a link to open the accountbut the account at BoA never asked me for an employer, a company code, etc.That is correct.I suppose once I receive the packet in the mail, I can call BoA to link the two?I just need to verify regarding Eligibility Information, may I have a minute please.sureThank you for waiting Mr. Rowland, as what I have mentioned earlier, since your election for HSA is reflecting here on our system, then we will send your Eligibility Information to Bank of America for you to receive a Welcome Packet from them.okIs there anything else, I can help you with today?no thank you\n",
      "\n",
      "Score: 0.9668183\n",
      "Document: OtherThank you for chatting with us today. How can I help you?I attempted to submit a one-time payroll deduction to my HSA account.  After selecting the submit button, there is no verification that the transaction was received.I can help you with your concern.You may call your Payroll department and they can confirm if the transaction was successful or not.Their phone number is 1-877-258-3699 option #2.Thank you, I'll do that.  However, the web site suggests calling Bank of America (the HSA card provider).  They were unable to confirm whether or not the transaction was recorded.  I believe the web site should be modified.Yes. That is also correct if the transaction was not successful you will need to call Bank of America to send another One Time contribution for Health Savings Account.Is there anything else I can assist you with?Typically a web site should provide some confirmation page , pop-up, etc. to indicate a submission was received.  I hope you will put this in the suggestion box.That is rest assured.Is there anything else I can assist you with?Thank you.\n",
      "\n",
      "Score: 0.96313787\n",
      "Document: OtherThank you for chatting with us today. How can I help you?Hi Andrew,  I believe I put in a request to have $1500 paid from my next paycheck to my HSA account.  The problem - normally I receive an email confirming the transfer, this time I didn't receive one.  Could you check and verify this transfer?Let me assist you with your concern.ok thank youAs I've checked here it seems that you'll need to cotact the Bank of America for them to see if it was successful.It should actually be in the queue for the next check since I placed it late last week.  It would not have been part of my last check.I'm just wondering since I received no confirmation whether it is still in the queue to be transferred.I really would like to check it in our end but we don't have an access you your Health Savings Account funds.You will need to contact Bank of America for them to check.It really isn't about the HSA funds but whether my next paycheck will include the transfer of $1500.00Okay. You may call first your payroll department if they already have the information on your paycheck.is that one stop? or do you have another phone #?Here's the phone number. 1-877-258-3699 option number #2.Thanks Andrew.  Have a nice day.You're much welcome Mr. Patrick.Thank you for using Click to Chat, Have a wonderful day!Is there anything else I can assist you with?No that should do it.  Thank youThank you for using Click to Chat, Have a wonderful day!\n",
      "\n",
      "Score: 0.9623456\n",
      "Document: H&IThank you for chatting with us today. How can I help you?I am a new employee and I cannot access the correct site to \"sign up\" for the HSA.Good morning Vanessa, I have checked your account and I could see that you have already elected a contribution for your Health Savings Account.You have added the contribution yesterday, its reflected on our system.I didn't realize I had completed it....I thought I needed to contact BOA to set up the actual account?Its completed on our end, but yes you will need to contact Bank of America to set up an account.Here is their number for your reference:\t800-318-1190.Okay, that's what I'm having trouble doing.. what information do they need from me to set up the account? I called them  yesterday and the rep told me I needed to go through my employer.Am I setting up an \"individual account\"?  And if so, how will you know the information to make the contributions to my account?I see, let me take a look here on my end, one moment please.Thanks!Thank you for waiting Vanessa, since that you have already contributed an amount for your HSA at Honeywell we send in weekly file feeds to Bank of America in order for you to have an account.Expect to have an account with Bank of America by next week since we have a process in sending files.By next week you can try to confirm with Bank of America if you already have an existing account.So, I will receive something from them directly - and don't need to contact them? Or do anything online myself?You will need to contact Bank of America to confirm if the weekly file feed that we will send is received.By next week, you can contact them at the number that I have provided you.Thanks.You're welcome! Is there anything else that I can assist you with?No, I'm still confused - because when I call, they are going to ask me for an \"account number\" or some other account information - which I won't have, but I'll try it.  Thanks.Not a problem, you can also give us a call at 877-258-3699 option 4. If you need additional assistance.Or you can always chat with us againThank you for using Click to Chat, Have a wonderful day!\n",
      "\n",
      "Score: 0.9563558\n",
      "Document: H&II have a question about my HSA accountThank you for chatting with us today. How can I help you?I'll be happy to assist you with that. It will be just a minute while I access your records.I just set up my insurance today, but when I try to access the HSA to set it up, the website gives an errorI apologize for the inconvenience.I don't know if I need to wait until tomorrow, or if the HSA site is down, or whatSince you only completed the changes in your account today 10/01/2018 in the web site, the Health Savings Account will be set up once the carrier (Bank Of America) has received your files information.oh, will I get an email once they do that?You will received a welcome packet and instructing you on how to open or set up your Health Savings Account with the Bank of America.does that come via email?  Or postal mailIt is via postal mail.ok, I will wait for itthank youYou're welcome.Is there anything else I can assist you with?I have not heard from you for some time.  Is there something that I may help you with?\n"
     ]
    }
   ],
   "source": [
    "## Transform our corpus to lsi space and index it ##\n",
    "index=similarities.MatrixSimilarity(lsi[corpus])\n",
    "\n",
    "## now converting user's document into lsi space vector ##\n",
    "usr_doc= input()\n",
    "vec_bow=dictionary.doc2bow(usr_doc.lower().split())\n",
    "usr_lsi_vec=lsi[vec_bow]\n",
    "\n",
    "## now find similarity of user vector aginst our indexed document ##\n",
    "sims=index[usr_lsi_vec]\n",
    "\n",
    "## sort the similarity ##\n",
    "siml=sorted(enumerate(sims), key=lambda val: -val[1])[:6]\n",
    "for sim_doc_id,sim_score in siml:\n",
    "    print(\"\\033[1m\"+\"\\nScore: \" + str(sim_score))\n",
    "    print(\"Document: \" + doc[sim_doc_id] )"
   ]
  }
 ],
 "metadata": {
  "kernelspec": {
   "display_name": "Python 3",
   "language": "python",
   "name": "python3"
  },
  "language_info": {
   "codemirror_mode": {
    "name": "ipython",
    "version": 3
   },
   "file_extension": ".py",
   "mimetype": "text/x-python",
   "name": "python",
   "nbconvert_exporter": "python",
   "pygments_lexer": "ipython3",
   "version": "3.7.3"
  }
 },
 "nbformat": 4,
 "nbformat_minor": 2
}
