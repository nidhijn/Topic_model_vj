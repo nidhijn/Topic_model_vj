{
 "cells": [
  {
   "cell_type": "code",
   "execution_count": 1,
   "metadata": {},
   "outputs": [],
   "source": [
    "import textacy\n",
    "import spacy\n",
    "import pandas as pd\n",
    "import numpy as np\n",
    "import matplotlib.pyplot as plt\n",
    "from sklearn.feature_extraction.text import CountVectorizer,TfidfVectorizer \n",
    "%matplotlib inline\n",
    "from sklearn.feature_extraction import text as TEXT\n",
    "import re\n",
    "from nltk.tokenize import RegexpTokenizer,wordpunct_tokenize, sent_tokenize\n",
    "import os\n",
    "from gensim.models import ldamulticore\n",
    "from nltk.stem import WordNetLemmatizer\n",
    "from gensim import corpora, models, similarities, matutils\n",
    "from sklearn.decomposition import TruncatedSVD\n",
    "from nltk.tokenize import RegexpTokenizer\n",
    "from nltk.stem import LancasterStemmer, PorterStemmer\n",
    "from gensim.models import CoherenceModel, LdaModel, LsiModel, HdpModel\n",
    "import nltk\n",
    "import logging\n",
    "import pickle\n",
    "import gensim\n",
    "from gensim.utils import lemmatize\n",
    "\n",
    "logging.basicConfig(format='%(asctime)s : %(levelname)s : %(message)s', level=logging.INFO)\n",
    "nlp = spacy.load('en')"
   ]
  },
  {
   "cell_type": "code",
   "execution_count": 2,
   "metadata": {},
   "outputs": [],
   "source": [
    "pickle_off = open(\"corpus\",\"rb\")\n",
    "corpus = pickle.load(pickle_off)"
   ]
  },
  {
   "cell_type": "code",
   "execution_count": 3,
   "metadata": {},
   "outputs": [],
   "source": [
    "#Loading pickled data as Count Vectorizer\n",
    "\n",
    "import pickle\n",
    "pickle_off = open(\"mat_cv.pickle\",\"rb\")\n",
    "mat_cv = pickle.load(pickle_off)\n",
    "\n",
    "cv_2corpus = matutils.Sparse2Corpus(mat_cv.transpose())\n",
    "\n",
    "pickle_off = open(\"ld_words2idf.pkl\",\"rb\")\n",
    "ld_words2idf = pickle.load(pickle_off)\n"
   ]
  },
  {
   "cell_type": "code",
   "execution_count": 5,
   "metadata": {},
   "outputs": [],
   "source": [
    "#dictionary = corpora.Dictionary(train_texts)\n",
    "#corpus = [dictionary.doc2bow(text) for text in train_texts]"
   ]
  },
  {
   "cell_type": "code",
   "execution_count": 58,
   "metadata": {},
   "outputs": [
    {
     "name": "stderr",
     "output_type": "stream",
     "text": [
      "2018-03-06 00:23:10,564 : INFO : (0, '0.003*state + 0.002*report + 0.002*world + 0.002*work + 0.002*think + 0.002*president + 0.002*police + 0.002*accord + 0.002*include + 0.002*unite')\n",
      "2018-03-06 00:23:10,832 : INFO : (1, '0.000*student + 0.000*transcript + 0.000*mention + 0.000*mention student + 0.000*roll + 0.000*page + 0.000*comment + 0.000*standards + 0.000*state + 0.000*request')\n",
      "2018-03-06 00:23:11,064 : INFO : (2, '0.000*curriculum + 0.000*today + 0.000*daily + 0.000*transcript + 0.000*student + 0.000*daily curriculum + 0.000*feedback + 0.000*page + 0.000*question + 0.000*heritage')\n",
      "2018-03-06 00:23:11,272 : INFO : (3, '0.000*gadhafi + 0.000*libyan + 0.000*council + 0.000*libya + 0.000*alive + 0.000*government + 0.000*state + 0.000*security + 0.000*transitional + 0.000*ask')\n",
      "2018-03-06 00:23:11,498 : INFO : (4, '0.000*airport + 0.000*drug + 0.000*angeles + 0.000*los + 0.000*los angeles + 0.000*gangsta + 0.000*paradise + 0.000*arrest + 0.000*spokeswoman + 0.000*hit')\n",
      "2018-03-06 00:23:11,727 : INFO : (5, '0.000*baby + 0.000*royal + 0.000*duchess + 0.000*catherine + 0.000*william + 0.000*queen + 0.000*birth + 0.000*hospital + 0.000*girl + 0.000*london')\n",
      "2018-03-06 00:23:11,964 : INFO : (6, '0.000*state + 0.000*court + 0.000*police + 0.000*unite + 0.000*right + 0.000*authorities + 0.000*crimes + 0.000*charge + 0.000*case + 0.000*international')\n",
      "2018-03-06 00:23:12,199 : INFO : (7, '0.000*fifa + 0.000*world + 0.000*report + 0.000*gun + 0.000*earmark + 0.000*bid + 0.000*house + 0.000*cup + 0.000*world cup + 0.000*president')\n",
      "2018-03-06 00:23:12,434 : INFO : (8, '0.000*starbucks + 0.000*coffee + 0.000*report + 0.000*romney + 0.000*work + 0.000*store + 0.000*state + 0.000*japan + 0.000*home + 0.000*company')\n",
      "2018-03-06 00:23:12,667 : INFO : (9, '0.000*anthony + 0.000*casey + 0.000*report + 0.000*casey anthony + 0.000*caylee + 0.000*police + 0.000*women + 0.000*rania + 0.000*family + 0.000*flight')\n",
      "2018-03-06 00:23:12,901 : INFO : (10, '0.000*mercury + 0.000*home + 0.000*south + 0.000*report + 0.000*africa + 0.000*world + 0.000*fish + 0.000*accord + 0.000*city + 0.000*credit')\n",
      "2018-03-06 00:23:13,133 : INFO : (11, '0.000*race + 0.000*grand + 0.000*grand prix + 0.000*prix + 0.000*fia + 0.000*tire + 0.000*recall + 0.000*health + 0.000*ship + 0.000*ticket')\n",
      "2018-03-06 00:23:13,365 : INFO : (12, '0.000*linux + 0.000*police + 0.000*world + 0.000*win + 0.000*president + 0.000*software + 0.000*camelot + 0.000*run + 0.000*change + 0.000*ortega')\n",
      "2018-03-06 00:23:13,594 : INFO : (13, '0.000*kill + 0.000*ukraine + 0.000*airport + 0.000*russian + 0.000*strike + 0.000*russia + 0.000*attack + 0.000*militants + 0.000*border + 0.000*pakistan')\n",
      "2018-03-06 00:23:13,824 : INFO : (14, '0.000*police + 0.000*obama + 0.000*court + 0.000*law + 0.000*president + 0.000*immigration + 0.000*officer + 0.000*republicans + 0.000*house + 0.000*offer')\n",
      "2018-03-06 00:23:14,054 : INFO : (15, '0.000*autism + 0.000*women + 0.000*aba + 0.000*children + 0.000*state + 0.000*democrats + 0.000*child + 0.000*wall + 0.000*blue + 0.000*house')\n",
      "2018-03-06 00:23:14,283 : INFO : (16, '0.000*libyan + 0.000*minister + 0.000*greek + 0.000*foreign + 0.000*foreign minister + 0.000*envoy + 0.000*message + 0.000*obeidi + 0.000*libya + 0.000*deputy')\n",
      "2018-03-06 00:23:14,513 : INFO : (17, '0.000*women + 0.000*saudi + 0.000*rahman + 0.000*win + 0.000*john + 0.000*image + 0.000*best + 0.000*saint + 0.000*film + 0.000*life')\n",
      "2018-03-06 00:23:14,744 : INFO : (18, '0.000*state + 0.000*islamic + 0.000*islamic state + 0.000*group + 0.000*catholic + 0.000*qaeda + 0.000*syria + 0.000*iraq + 0.000*catholics + 0.000*statement')\n",
      "2018-03-06 00:23:14,975 : INFO : (19, '0.000*tunisia + 0.000*state + 0.000*constitution + 0.000*country + 0.000*government + 0.000*morales + 0.000*president + 0.000*court + 0.000*power + 0.000*term')\n",
      "2018-03-06 00:23:14,997 : INFO : PROGRESS: finished document 9984 of 92579\n",
      "2018-03-06 00:24:43,426 : INFO : (0, '0.003*state + 0.002*report + 0.002*world + 0.002*government + 0.002*president + 0.002*right + 0.002*group + 0.002*work + 0.002*accord + 0.002*police')\n",
      "2018-03-06 00:24:43,643 : INFO : (1, '0.000*aaa + 0.000*aaa rat + 0.000*aachen + 0.000*aafia + 0.000*aafia siddiqui + 0.000*aah + 0.000*aamer + 0.000*aamir + 0.000*aamir iqbal + 0.000*aap')\n",
      "2018-03-06 00:24:43,818 : INFO : (2, '0.000*aaa + 0.000*aaa rat + 0.000*aachen + 0.000*aafia + 0.000*aafia siddiqui + 0.000*aah + 0.000*aamer + 0.000*aamir + 0.000*aamir iqbal + 0.000*aap')\n",
      "2018-03-06 00:24:43,990 : INFO : (3, '0.000*aaa + 0.000*aaa rat + 0.000*aachen + 0.000*aafia + 0.000*aafia siddiqui + 0.000*aah + 0.000*aamer + 0.000*aamir + 0.000*aamir iqbal + 0.000*aap')\n",
      "2018-03-06 00:24:44,160 : INFO : (4, '0.000*aaa + 0.000*aaa rat + 0.000*aachen + 0.000*aafia + 0.000*aafia siddiqui + 0.000*aah + 0.000*aamer + 0.000*aamir + 0.000*aamir iqbal + 0.000*aap')\n",
      "2018-03-06 00:24:44,328 : INFO : (5, '0.000*aaa + 0.000*aaa rat + 0.000*aachen + 0.000*aafia + 0.000*aafia siddiqui + 0.000*aah + 0.000*aamer + 0.000*aamir + 0.000*aamir iqbal + 0.000*aap')\n",
      "2018-03-06 00:24:44,497 : INFO : (6, '0.000*aaa + 0.000*aaa rat + 0.000*aachen + 0.000*aafia + 0.000*aafia siddiqui + 0.000*aah + 0.000*aamer + 0.000*aamir + 0.000*aamir iqbal + 0.000*aap')\n",
      "2018-03-06 00:24:44,666 : INFO : (7, '0.000*aaa + 0.000*aaa rat + 0.000*aachen + 0.000*aafia + 0.000*aafia siddiqui + 0.000*aah + 0.000*aamer + 0.000*aamir + 0.000*aamir iqbal + 0.000*aap')\n",
      "2018-03-06 00:24:44,836 : INFO : (8, '0.000*aaa + 0.000*aaa rat + 0.000*aachen + 0.000*aafia + 0.000*aafia siddiqui + 0.000*aah + 0.000*aamer + 0.000*aamir + 0.000*aamir iqbal + 0.000*aap')\n",
      "2018-03-06 00:24:45,005 : INFO : (9, '0.000*aaa + 0.000*aaa rat + 0.000*aachen + 0.000*aafia + 0.000*aafia siddiqui + 0.000*aah + 0.000*aamer + 0.000*aamir + 0.000*aamir iqbal + 0.000*aap')\n",
      "2018-03-06 00:24:45,173 : INFO : (10, '0.000*aaa + 0.000*aaa rat + 0.000*aachen + 0.000*aafia + 0.000*aafia siddiqui + 0.000*aah + 0.000*aamer + 0.000*aamir + 0.000*aamir iqbal + 0.000*aap')\n",
      "2018-03-06 00:24:45,340 : INFO : (11, '0.000*aaa + 0.000*aaa rat + 0.000*aachen + 0.000*aafia + 0.000*aafia siddiqui + 0.000*aah + 0.000*aamer + 0.000*aamir + 0.000*aamir iqbal + 0.000*aap')\n",
      "2018-03-06 00:24:45,510 : INFO : (12, '0.000*aaa + 0.000*aaa rat + 0.000*aachen + 0.000*aafia + 0.000*aafia siddiqui + 0.000*aah + 0.000*aamer + 0.000*aamir + 0.000*aamir iqbal + 0.000*aap')\n",
      "2018-03-06 00:24:45,679 : INFO : (13, '0.000*aaa + 0.000*aaa rat + 0.000*aachen + 0.000*aafia + 0.000*aafia siddiqui + 0.000*aah + 0.000*aamer + 0.000*aamir + 0.000*aamir iqbal + 0.000*aap')\n",
      "2018-03-06 00:24:45,848 : INFO : (14, '0.000*aaa + 0.000*aaa rat + 0.000*aachen + 0.000*aafia + 0.000*aafia siddiqui + 0.000*aah + 0.000*aamer + 0.000*aamir + 0.000*aamir iqbal + 0.000*aap')\n",
      "2018-03-06 00:24:46,015 : INFO : (15, '0.000*aaa + 0.000*aaa rat + 0.000*aachen + 0.000*aafia + 0.000*aafia siddiqui + 0.000*aah + 0.000*aamer + 0.000*aamir + 0.000*aamir iqbal + 0.000*aap')\n",
      "2018-03-06 00:24:46,184 : INFO : (16, '0.000*aaa + 0.000*aaa rat + 0.000*aachen + 0.000*aafia + 0.000*aafia siddiqui + 0.000*aah + 0.000*aamer + 0.000*aamir + 0.000*aamir iqbal + 0.000*aap')\n",
      "2018-03-06 00:24:46,351 : INFO : (17, '0.000*aaa + 0.000*aaa rat + 0.000*aachen + 0.000*aafia + 0.000*aafia siddiqui + 0.000*aah + 0.000*aamer + 0.000*aamir + 0.000*aamir iqbal + 0.000*aap')\n",
      "2018-03-06 00:24:46,520 : INFO : (18, '0.000*aaa + 0.000*aaa rat + 0.000*aachen + 0.000*aafia + 0.000*aafia siddiqui + 0.000*aah + 0.000*aamer + 0.000*aamir + 0.000*aamir iqbal + 0.000*aap')\n",
      "2018-03-06 00:24:46,688 : INFO : (19, '0.000*aaa + 0.000*aaa rat + 0.000*aachen + 0.000*aafia + 0.000*aafia siddiqui + 0.000*aah + 0.000*aamer + 0.000*aamir + 0.000*aamir iqbal + 0.000*aap')\n",
      "2018-03-06 00:24:46,705 : INFO : PROGRESS: finished document 19968 of 92579\n",
      "2018-03-06 00:26:14,508 : INFO : (0, '0.003*state + 0.002*report + 0.002*world + 0.002*police + 0.002*work + 0.002*government + 0.002*think + 0.002*accord + 0.002*president + 0.002*include')\n",
      "2018-03-06 00:26:14,727 : INFO : (1, '0.000*transcript + 0.000*student + 0.000*student program + 0.000*today + 0.000*program + 0.000*shanksville pennsylvania + 0.000*shanksville + 0.000*september download + 0.000*student september + 0.000*today york')\n"
     ]
    },
    {
     "name": "stderr",
     "output_type": "stream",
     "text": [
      "2018-03-06 00:26:14,896 : INFO : (2, '0.000*transcript + 0.000*student + 0.000*student program + 0.000*today + 0.000*program + 0.000*shanksville pennsylvania + 0.000*shanksville + 0.000*september download + 0.000*student september + 0.000*today york')\n",
      "2018-03-06 00:26:15,061 : INFO : (3, '0.000*transcript + 0.000*student + 0.000*student program + 0.000*today + 0.000*program + 0.000*shanksville pennsylvania + 0.000*shanksville + 0.000*september download + 0.000*student september + 0.000*arlington virginia')\n",
      "2018-03-06 00:26:15,225 : INFO : (4, '0.000*transcript + 0.000*student + 0.000*student program + 0.000*program + 0.000*today + 0.000*shanksville pennsylvania + 0.000*shanksville + 0.000*september download + 0.000*student september + 0.000*today york')\n",
      "2018-03-06 00:26:15,388 : INFO : (5, '0.000*student + 0.000*transcript + 0.000*program + 0.000*student program + 0.000*today + 0.000*shanksville pennsylvania + 0.000*shanksville + 0.000*access transcript + 0.000*arlington + 0.000*arlington virginia')\n",
      "2018-03-06 00:26:15,551 : INFO : (6, '0.000*student + 0.000*transcript + 0.000*student program + 0.000*program + 0.000*today + 0.000*shanksville pennsylvania + 0.000*shanksville + 0.000*access + 0.000*access transcript + 0.000*arlington')\n",
      "2018-03-06 00:26:15,715 : INFO : (7, '0.000*student + 0.000*transcript + 0.000*program + 0.000*student program + 0.000*today + 0.000*september download + 0.000*shanksville + 0.000*shanksville pennsylvania + 0.000*student september + 0.000*access')\n",
      "2018-03-06 00:26:15,878 : INFO : (8, '0.000*student + 0.000*transcript + 0.000*student program + 0.000*program + 0.000*today + 0.000*access + 0.000*access transcript + 0.000*arlington + 0.000*arlington virginia + 0.000*available')\n",
      "2018-03-06 00:26:16,040 : INFO : (9, '0.000*student + 0.000*transcript + 0.000*program + 0.000*student program + 0.000*today + 0.000*access + 0.000*access transcript + 0.000*arlington + 0.000*arlington virginia + 0.000*available')\n",
      "2018-03-06 00:26:16,201 : INFO : (10, '0.000*student + 0.000*transcript + 0.000*program + 0.000*student program + 0.000*today + 0.000*access + 0.000*access transcript + 0.000*arlington + 0.000*arlington virginia + 0.000*available')\n",
      "2018-03-06 00:26:16,362 : INFO : (11, '0.000*student + 0.000*transcript + 0.000*program + 0.000*student program + 0.000*today + 0.000*access + 0.000*access transcript + 0.000*arlington + 0.000*arlington virginia + 0.000*available')\n",
      "2018-03-06 00:26:16,524 : INFO : (12, '0.000*student + 0.000*transcript + 0.000*program + 0.000*student program + 0.000*today + 0.000*access + 0.000*access transcript + 0.000*arlington + 0.000*arlington virginia + 0.000*available')\n",
      "2018-03-06 00:26:16,685 : INFO : (13, '0.000*student + 0.000*transcript + 0.000*program + 0.000*student program + 0.000*today + 0.000*access + 0.000*access transcript + 0.000*arlington + 0.000*arlington virginia + 0.000*available')\n",
      "2018-03-06 00:26:16,847 : INFO : (14, '0.000*student + 0.000*transcript + 0.000*program + 0.000*student program + 0.000*today + 0.000*access + 0.000*access transcript + 0.000*arlington + 0.000*arlington virginia + 0.000*available')\n",
      "2018-03-06 00:26:17,008 : INFO : (15, '0.000*student + 0.000*transcript + 0.000*program + 0.000*student program + 0.000*today + 0.000*access + 0.000*access transcript + 0.000*arlington + 0.000*arlington virginia + 0.000*available')\n",
      "2018-03-06 00:26:17,170 : INFO : (16, '0.000*student + 0.000*transcript + 0.000*program + 0.000*student program + 0.000*today + 0.000*access + 0.000*access transcript + 0.000*arlington + 0.000*arlington virginia + 0.000*available')\n",
      "2018-03-06 00:26:17,331 : INFO : (17, '0.000*student + 0.000*transcript + 0.000*program + 0.000*student program + 0.000*today + 0.000*access + 0.000*access transcript + 0.000*arlington + 0.000*arlington virginia + 0.000*available')\n",
      "2018-03-06 00:26:17,492 : INFO : (18, '0.000*student + 0.000*transcript + 0.000*program + 0.000*student program + 0.000*today + 0.000*access + 0.000*access transcript + 0.000*arlington + 0.000*arlington virginia + 0.000*available')\n",
      "2018-03-06 00:26:17,653 : INFO : (19, '0.000*student + 0.000*transcript + 0.000*program + 0.000*student program + 0.000*today + 0.000*access + 0.000*access transcript + 0.000*arlington + 0.000*arlington virginia + 0.000*available')\n",
      "2018-03-06 00:26:17,667 : INFO : PROGRESS: finished document 29952 of 92579\n",
      "2018-03-06 00:27:47,105 : INFO : (0, '0.003*state + 0.002*report + 0.002*work + 0.002*president + 0.002*obama + 0.002*think + 0.002*world + 0.002*win + 0.002*right + 0.001*group')\n",
      "2018-03-06 00:27:47,325 : INFO : (1, '0.000*aaa + 0.000*aaa rat + 0.000*aachen + 0.000*aafia + 0.000*aafia siddiqui + 0.000*aah + 0.000*aamer + 0.000*aamir + 0.000*aamir iqbal + 0.000*aap')\n",
      "2018-03-06 00:27:47,500 : INFO : (2, '0.000*aaa + 0.000*aaa rat + 0.000*aachen + 0.000*aafia + 0.000*aafia siddiqui + 0.000*aah + 0.000*aamer + 0.000*aamir + 0.000*aamir iqbal + 0.000*aap')\n",
      "2018-03-06 00:27:47,670 : INFO : (3, '0.000*aaa + 0.000*aaa rat + 0.000*aachen + 0.000*aafia + 0.000*aafia siddiqui + 0.000*aah + 0.000*aamer + 0.000*aamir + 0.000*aamir iqbal + 0.000*aap')\n",
      "2018-03-06 00:27:47,840 : INFO : (4, '0.000*aaa + 0.000*aaa rat + 0.000*aachen + 0.000*aafia + 0.000*aafia siddiqui + 0.000*aah + 0.000*aamer + 0.000*aamir + 0.000*aamir iqbal + 0.000*aap')\n",
      "2018-03-06 00:27:48,008 : INFO : (5, '0.000*aaa + 0.000*aaa rat + 0.000*aachen + 0.000*aafia + 0.000*aafia siddiqui + 0.000*aah + 0.000*aamer + 0.000*aamir + 0.000*aamir iqbal + 0.000*aap')\n",
      "2018-03-06 00:27:48,176 : INFO : (6, '0.000*aaa + 0.000*aaa rat + 0.000*aachen + 0.000*aafia + 0.000*aafia siddiqui + 0.000*aah + 0.000*aamer + 0.000*aamir + 0.000*aamir iqbal + 0.000*aap')\n",
      "2018-03-06 00:27:48,345 : INFO : (7, '0.000*aaa + 0.000*aaa rat + 0.000*aachen + 0.000*aafia + 0.000*aafia siddiqui + 0.000*aah + 0.000*aamer + 0.000*aamir + 0.000*aamir iqbal + 0.000*aap')\n",
      "2018-03-06 00:27:48,514 : INFO : (8, '0.000*aaa + 0.000*aaa rat + 0.000*aachen + 0.000*aafia + 0.000*aafia siddiqui + 0.000*aah + 0.000*aamer + 0.000*aamir + 0.000*aamir iqbal + 0.000*aap')\n",
      "2018-03-06 00:27:48,682 : INFO : (9, '0.000*aaa + 0.000*aaa rat + 0.000*aachen + 0.000*aafia + 0.000*aafia siddiqui + 0.000*aah + 0.000*aamer + 0.000*aamir + 0.000*aamir iqbal + 0.000*aap')\n",
      "2018-03-06 00:27:48,848 : INFO : (10, '0.000*aaa + 0.000*aaa rat + 0.000*aachen + 0.000*aafia + 0.000*aafia siddiqui + 0.000*aah + 0.000*aamer + 0.000*aamir + 0.000*aamir iqbal + 0.000*aap')\n",
      "2018-03-06 00:27:49,018 : INFO : (11, '0.000*aaa + 0.000*aaa rat + 0.000*aachen + 0.000*aafia + 0.000*aafia siddiqui + 0.000*aah + 0.000*aamer + 0.000*aamir + 0.000*aamir iqbal + 0.000*aap')\n",
      "2018-03-06 00:27:49,186 : INFO : (12, '0.000*aaa + 0.000*aaa rat + 0.000*aachen + 0.000*aafia + 0.000*aafia siddiqui + 0.000*aah + 0.000*aamer + 0.000*aamir + 0.000*aamir iqbal + 0.000*aap')\n",
      "2018-03-06 00:27:49,354 : INFO : (13, '0.000*aaa + 0.000*aaa rat + 0.000*aachen + 0.000*aafia + 0.000*aafia siddiqui + 0.000*aah + 0.000*aamer + 0.000*aamir + 0.000*aamir iqbal + 0.000*aap')\n",
      "2018-03-06 00:27:49,522 : INFO : (14, '0.000*aaa + 0.000*aaa rat + 0.000*aachen + 0.000*aafia + 0.000*aafia siddiqui + 0.000*aah + 0.000*aamer + 0.000*aamir + 0.000*aamir iqbal + 0.000*aap')\n",
      "2018-03-06 00:27:49,689 : INFO : (15, '0.000*aaa + 0.000*aaa rat + 0.000*aachen + 0.000*aafia + 0.000*aafia siddiqui + 0.000*aah + 0.000*aamer + 0.000*aamir + 0.000*aamir iqbal + 0.000*aap')\n",
      "2018-03-06 00:27:49,856 : INFO : (16, '0.000*aaa + 0.000*aaa rat + 0.000*aachen + 0.000*aafia + 0.000*aafia siddiqui + 0.000*aah + 0.000*aamer + 0.000*aamir + 0.000*aamir iqbal + 0.000*aap')\n",
      "2018-03-06 00:27:50,025 : INFO : (17, '0.000*aaa + 0.000*aaa rat + 0.000*aachen + 0.000*aafia + 0.000*aafia siddiqui + 0.000*aah + 0.000*aamer + 0.000*aamir + 0.000*aamir iqbal + 0.000*aap')\n",
      "2018-03-06 00:27:50,192 : INFO : (18, '0.000*aaa + 0.000*aaa rat + 0.000*aachen + 0.000*aafia + 0.000*aafia siddiqui + 0.000*aah + 0.000*aamer + 0.000*aamir + 0.000*aamir iqbal + 0.000*aap')\n",
      "2018-03-06 00:27:50,359 : INFO : (19, '0.000*aaa + 0.000*aaa rat + 0.000*aachen + 0.000*aafia + 0.000*aafia siddiqui + 0.000*aah + 0.000*aamer + 0.000*aamir + 0.000*aamir iqbal + 0.000*aap')\n",
      "2018-03-06 00:27:50,375 : INFO : PROGRESS: finished document 39936 of 92579\n"
     ]
    },
    {
     "name": "stderr",
     "output_type": "stream",
     "text": [
      "2018-03-06 00:29:18,413 : INFO : (0, '0.003*state + 0.002*work + 0.002*world + 0.002*report + 0.002*police + 0.002*think + 0.002*president + 0.002*government + 0.002*accord + 0.002*day')\n",
      "2018-03-06 00:29:18,626 : INFO : (1, '0.000*aaa + 0.000*aaa rat + 0.000*aachen + 0.000*aafia + 0.000*aafia siddiqui + 0.000*aah + 0.000*aamer + 0.000*aamir + 0.000*aamir iqbal + 0.000*aap')\n",
      "2018-03-06 00:29:18,794 : INFO : (2, '0.000*aaa + 0.000*aaa rat + 0.000*aachen + 0.000*aafia + 0.000*aafia siddiqui + 0.000*aah + 0.000*aamer + 0.000*aamir + 0.000*aamir iqbal + 0.000*aap')\n",
      "2018-03-06 00:29:18,958 : INFO : (3, '0.000*aaa + 0.000*aaa rat + 0.000*aachen + 0.000*aafia + 0.000*aafia siddiqui + 0.000*aah + 0.000*aamer + 0.000*aamir + 0.000*aamir iqbal + 0.000*aap')\n",
      "2018-03-06 00:29:19,122 : INFO : (4, '0.000*aaa + 0.000*aaa rat + 0.000*aachen + 0.000*aafia + 0.000*aafia siddiqui + 0.000*aah + 0.000*aamer + 0.000*aamir + 0.000*aamir iqbal + 0.000*aap')\n",
      "2018-03-06 00:29:19,285 : INFO : (5, '0.000*aaa + 0.000*aaa rat + 0.000*aachen + 0.000*aafia + 0.000*aafia siddiqui + 0.000*aah + 0.000*aamer + 0.000*aamir + 0.000*aamir iqbal + 0.000*aap')\n",
      "2018-03-06 00:29:19,447 : INFO : (6, '0.000*aaa + 0.000*aaa rat + 0.000*aachen + 0.000*aafia + 0.000*aafia siddiqui + 0.000*aah + 0.000*aamer + 0.000*aamir + 0.000*aamir iqbal + 0.000*aap')\n",
      "2018-03-06 00:29:19,608 : INFO : (7, '0.000*aaa + 0.000*aaa rat + 0.000*aachen + 0.000*aafia + 0.000*aafia siddiqui + 0.000*aah + 0.000*aamer + 0.000*aamir + 0.000*aamir iqbal + 0.000*aap')\n",
      "2018-03-06 00:29:19,769 : INFO : (8, '0.000*aaa + 0.000*aaa rat + 0.000*aachen + 0.000*aafia + 0.000*aafia siddiqui + 0.000*aah + 0.000*aamer + 0.000*aamir + 0.000*aamir iqbal + 0.000*aap')\n",
      "2018-03-06 00:29:19,930 : INFO : (9, '0.000*aaa + 0.000*aaa rat + 0.000*aachen + 0.000*aafia + 0.000*aafia siddiqui + 0.000*aah + 0.000*aamer + 0.000*aamir + 0.000*aamir iqbal + 0.000*aap')\n",
      "2018-03-06 00:29:20,092 : INFO : (10, '0.000*aaa + 0.000*aaa rat + 0.000*aachen + 0.000*aafia + 0.000*aafia siddiqui + 0.000*aah + 0.000*aamer + 0.000*aamir + 0.000*aamir iqbal + 0.000*aap')\n",
      "2018-03-06 00:29:20,253 : INFO : (11, '0.000*aaa + 0.000*aaa rat + 0.000*aachen + 0.000*aafia + 0.000*aafia siddiqui + 0.000*aah + 0.000*aamer + 0.000*aamir + 0.000*aamir iqbal + 0.000*aap')\n",
      "2018-03-06 00:29:20,414 : INFO : (12, '0.000*aaa + 0.000*aaa rat + 0.000*aachen + 0.000*aafia + 0.000*aafia siddiqui + 0.000*aah + 0.000*aamer + 0.000*aamir + 0.000*aamir iqbal + 0.000*aap')\n",
      "2018-03-06 00:29:20,574 : INFO : (13, '0.000*aaa + 0.000*aaa rat + 0.000*aachen + 0.000*aafia + 0.000*aafia siddiqui + 0.000*aah + 0.000*aamer + 0.000*aamir + 0.000*aamir iqbal + 0.000*aap')\n",
      "2018-03-06 00:29:20,736 : INFO : (14, '0.000*aaa + 0.000*aaa rat + 0.000*aachen + 0.000*aafia + 0.000*aafia siddiqui + 0.000*aah + 0.000*aamer + 0.000*aamir + 0.000*aamir iqbal + 0.000*aap')\n",
      "2018-03-06 00:29:20,896 : INFO : (15, '0.000*aaa + 0.000*aaa rat + 0.000*aachen + 0.000*aafia + 0.000*aafia siddiqui + 0.000*aah + 0.000*aamer + 0.000*aamir + 0.000*aamir iqbal + 0.000*aap')\n",
      "2018-03-06 00:29:21,056 : INFO : (16, '0.000*aaa + 0.000*aaa rat + 0.000*aachen + 0.000*aafia + 0.000*aafia siddiqui + 0.000*aah + 0.000*aamer + 0.000*aamir + 0.000*aamir iqbal + 0.000*aap')\n",
      "2018-03-06 00:29:21,217 : INFO : (17, '0.000*aaa + 0.000*aaa rat + 0.000*aachen + 0.000*aafia + 0.000*aafia siddiqui + 0.000*aah + 0.000*aamer + 0.000*aamir + 0.000*aamir iqbal + 0.000*aap')\n",
      "2018-03-06 00:29:21,378 : INFO : (18, '0.000*aaa + 0.000*aaa rat + 0.000*aachen + 0.000*aafia + 0.000*aafia siddiqui + 0.000*aah + 0.000*aamer + 0.000*aamir + 0.000*aamir iqbal + 0.000*aap')\n",
      "2018-03-06 00:29:21,539 : INFO : (19, '0.000*aaa + 0.000*aaa rat + 0.000*aachen + 0.000*aafia + 0.000*aafia siddiqui + 0.000*aah + 0.000*aamer + 0.000*aamir + 0.000*aamir iqbal + 0.000*aap')\n",
      "2018-03-06 00:29:21,554 : INFO : PROGRESS: finished document 49920 of 92579\n",
      "2018-03-06 00:30:49,943 : INFO : (0, '0.003*state + 0.002*report + 0.002*president + 0.002*world + 0.002*police + 0.002*work + 0.002*accord + 0.002*government + 0.002*think + 0.002*include')\n",
      "2018-03-06 00:30:50,164 : INFO : (1, '0.000*aaa + 0.000*aaa rat + 0.000*aachen + 0.000*aafia + 0.000*aafia siddiqui + 0.000*aah + 0.000*aamer + 0.000*aamir + 0.000*aamir iqbal + 0.000*aap')\n",
      "2018-03-06 00:30:50,338 : INFO : (2, '0.000*aaa + 0.000*aaa rat + 0.000*aachen + 0.000*aafia + 0.000*aafia siddiqui + 0.000*aah + 0.000*aamer + 0.000*aamir + 0.000*aamir iqbal + 0.000*aap')\n",
      "2018-03-06 00:30:50,509 : INFO : (3, '0.000*aaa + 0.000*aaa rat + 0.000*aachen + 0.000*aafia + 0.000*aafia siddiqui + 0.000*aah + 0.000*aamer + 0.000*aamir + 0.000*aamir iqbal + 0.000*aap')\n",
      "2018-03-06 00:30:50,682 : INFO : (4, '0.000*aaa + 0.000*aaa rat + 0.000*aachen + 0.000*aafia + 0.000*aafia siddiqui + 0.000*aah + 0.000*aamer + 0.000*aamir + 0.000*aamir iqbal + 0.000*aap')\n",
      "2018-03-06 00:30:50,849 : INFO : (5, '0.000*aaa + 0.000*aaa rat + 0.000*aachen + 0.000*aafia + 0.000*aafia siddiqui + 0.000*aah + 0.000*aamer + 0.000*aamir + 0.000*aamir iqbal + 0.000*aap')\n",
      "2018-03-06 00:30:51,019 : INFO : (6, '0.000*aaa + 0.000*aaa rat + 0.000*aachen + 0.000*aafia + 0.000*aafia siddiqui + 0.000*aah + 0.000*aamer + 0.000*aamir + 0.000*aamir iqbal + 0.000*aap')\n",
      "2018-03-06 00:30:51,187 : INFO : (7, '0.000*aaa + 0.000*aaa rat + 0.000*aachen + 0.000*aafia + 0.000*aafia siddiqui + 0.000*aah + 0.000*aamer + 0.000*aamir + 0.000*aamir iqbal + 0.000*aap')\n",
      "2018-03-06 00:30:51,354 : INFO : (8, '0.000*aaa + 0.000*aaa rat + 0.000*aachen + 0.000*aafia + 0.000*aafia siddiqui + 0.000*aah + 0.000*aamer + 0.000*aamir + 0.000*aamir iqbal + 0.000*aap')\n",
      "2018-03-06 00:30:51,519 : INFO : (9, '0.000*aaa + 0.000*aaa rat + 0.000*aachen + 0.000*aafia + 0.000*aafia siddiqui + 0.000*aah + 0.000*aamer + 0.000*aamir + 0.000*aamir iqbal + 0.000*aap')\n",
      "2018-03-06 00:30:51,684 : INFO : (10, '0.000*aaa + 0.000*aaa rat + 0.000*aachen + 0.000*aafia + 0.000*aafia siddiqui + 0.000*aah + 0.000*aamer + 0.000*aamir + 0.000*aamir iqbal + 0.000*aap')\n",
      "2018-03-06 00:30:51,851 : INFO : (11, '0.000*aaa + 0.000*aaa rat + 0.000*aachen + 0.000*aafia + 0.000*aafia siddiqui + 0.000*aah + 0.000*aamer + 0.000*aamir + 0.000*aamir iqbal + 0.000*aap')\n",
      "2018-03-06 00:30:52,019 : INFO : (12, '0.000*aaa + 0.000*aaa rat + 0.000*aachen + 0.000*aafia + 0.000*aafia siddiqui + 0.000*aah + 0.000*aamer + 0.000*aamir + 0.000*aamir iqbal + 0.000*aap')\n",
      "2018-03-06 00:30:52,184 : INFO : (13, '0.000*aaa + 0.000*aaa rat + 0.000*aachen + 0.000*aafia + 0.000*aafia siddiqui + 0.000*aah + 0.000*aamer + 0.000*aamir + 0.000*aamir iqbal + 0.000*aap')\n",
      "2018-03-06 00:30:52,350 : INFO : (14, '0.000*aaa + 0.000*aaa rat + 0.000*aachen + 0.000*aafia + 0.000*aafia siddiqui + 0.000*aah + 0.000*aamer + 0.000*aamir + 0.000*aamir iqbal + 0.000*aap')\n",
      "2018-03-06 00:30:52,516 : INFO : (15, '0.000*aaa + 0.000*aaa rat + 0.000*aachen + 0.000*aafia + 0.000*aafia siddiqui + 0.000*aah + 0.000*aamer + 0.000*aamir + 0.000*aamir iqbal + 0.000*aap')\n",
      "2018-03-06 00:30:52,681 : INFO : (16, '0.000*aaa + 0.000*aaa rat + 0.000*aachen + 0.000*aafia + 0.000*aafia siddiqui + 0.000*aah + 0.000*aamer + 0.000*aamir + 0.000*aamir iqbal + 0.000*aap')\n",
      "2018-03-06 00:30:52,846 : INFO : (17, '0.000*aaa + 0.000*aaa rat + 0.000*aachen + 0.000*aafia + 0.000*aafia siddiqui + 0.000*aah + 0.000*aamer + 0.000*aamir + 0.000*aamir iqbal + 0.000*aap')\n",
      "2018-03-06 00:30:53,011 : INFO : (18, '0.000*aaa + 0.000*aaa rat + 0.000*aachen + 0.000*aafia + 0.000*aafia siddiqui + 0.000*aah + 0.000*aamer + 0.000*aamir + 0.000*aamir iqbal + 0.000*aap')\n",
      "2018-03-06 00:30:53,176 : INFO : (19, '0.000*aaa + 0.000*aaa rat + 0.000*aachen + 0.000*aafia + 0.000*aafia siddiqui + 0.000*aah + 0.000*aamer + 0.000*aamir + 0.000*aamir iqbal + 0.000*aap')\n",
      "2018-03-06 00:30:53,193 : INFO : PROGRESS: finished document 59904 of 92579\n",
      "2018-03-06 00:32:21,390 : INFO : (0, '0.003*state + 0.003*report + 0.002*world + 0.002*government + 0.002*work + 0.002*think + 0.002*police + 0.002*president + 0.002*accord + 0.002*group')\n",
      "2018-03-06 00:32:21,607 : INFO : (1, '0.000*puck + 0.000*ethiopian + 0.000*marry + 0.000*bear + 0.000*wolfgang + 0.000*wolfgang puck + 0.000*chef + 0.000*designer + 0.000*africa bear + 0.000*bear designer')\n",
      "2018-03-06 00:32:21,775 : INFO : (2, '0.000*puck + 0.000*ethiopian + 0.000*marry + 0.000*bear + 0.000*wolfgang + 0.000*wolfgang puck + 0.000*chef + 0.000*designer + 0.000*africa bear + 0.000*bear designer')\n"
     ]
    },
    {
     "name": "stderr",
     "output_type": "stream",
     "text": [
      "2018-03-06 00:32:21,942 : INFO : (3, '0.000*puck + 0.000*ethiopian + 0.000*marry + 0.000*bear + 0.000*wolfgang + 0.000*wolfgang puck + 0.000*chef + 0.000*designer + 0.000*africa bear + 0.000*bear designer')\n",
      "2018-03-06 00:32:22,106 : INFO : (4, '0.000*puck + 0.000*ethiopian + 0.000*marry + 0.000*bear + 0.000*wolfgang + 0.000*wolfgang puck + 0.000*chef + 0.000*designer + 0.000*africa bear + 0.000*ababa')\n",
      "2018-03-06 00:32:22,267 : INFO : (5, '0.000*ethiopian + 0.000*puck + 0.000*marry + 0.000*bear + 0.000*chef + 0.000*designer + 0.000*wolfgang + 0.000*wolfgang puck + 0.000*africa bear + 0.000*ababa')\n",
      "2018-03-06 00:32:22,430 : INFO : (6, '0.000*ethiopian + 0.000*marry + 0.000*puck + 0.000*bear + 0.000*chef + 0.000*designer + 0.000*wolfgang + 0.000*wolfgang puck + 0.000*africa bear + 0.000*ababa')\n",
      "2018-03-06 00:32:22,593 : INFO : (7, '0.000*ethiopian + 0.000*marry + 0.000*puck + 0.000*bear + 0.000*chef + 0.000*wolfgang + 0.000*wolfgang puck + 0.000*designer + 0.000*ababa + 0.000*accessories')\n",
      "2018-03-06 00:32:22,754 : INFO : (8, '0.000*ethiopian + 0.000*marry + 0.000*puck + 0.000*bear + 0.000*chef + 0.000*designer + 0.000*wolfgang + 0.000*wolfgang puck + 0.000*ababa + 0.000*accessories')\n",
      "2018-03-06 00:32:22,915 : INFO : (9, '0.000*ethiopian + 0.000*marry + 0.000*puck + 0.000*bear + 0.000*chef + 0.000*designer + 0.000*wolfgang + 0.000*wolfgang puck + 0.000*ababa + 0.000*accessories')\n",
      "2018-03-06 00:32:23,076 : INFO : (10, '0.000*ethiopian + 0.000*marry + 0.000*puck + 0.000*bear + 0.000*chef + 0.000*designer + 0.000*wolfgang + 0.000*wolfgang puck + 0.000*ababa + 0.000*accessories')\n",
      "2018-03-06 00:32:23,237 : INFO : (11, '0.000*ethiopian + 0.000*marry + 0.000*puck + 0.000*bear + 0.000*chef + 0.000*designer + 0.000*wolfgang + 0.000*wolfgang puck + 0.000*ababa + 0.000*accessories')\n",
      "2018-03-06 00:32:23,399 : INFO : (12, '0.000*ethiopian + 0.000*marry + 0.000*puck + 0.000*bear + 0.000*chef + 0.000*designer + 0.000*wolfgang + 0.000*wolfgang puck + 0.000*ababa + 0.000*accessories')\n",
      "2018-03-06 00:32:23,560 : INFO : (13, '0.000*ethiopian + 0.000*marry + 0.000*puck + 0.000*bear + 0.000*chef + 0.000*designer + 0.000*wolfgang + 0.000*wolfgang puck + 0.000*ababa + 0.000*accessories')\n",
      "2018-03-06 00:32:23,722 : INFO : (14, '0.000*ethiopian + 0.000*marry + 0.000*puck + 0.000*bear + 0.000*chef + 0.000*designer + 0.000*wolfgang + 0.000*wolfgang puck + 0.000*ababa + 0.000*accessories')\n",
      "2018-03-06 00:32:23,883 : INFO : (15, '0.000*ethiopian + 0.000*marry + 0.000*puck + 0.000*bear + 0.000*chef + 0.000*designer + 0.000*wolfgang + 0.000*wolfgang puck + 0.000*ababa + 0.000*accessories')\n",
      "2018-03-06 00:32:24,044 : INFO : (16, '0.000*ethiopian + 0.000*marry + 0.000*puck + 0.000*bear + 0.000*chef + 0.000*designer + 0.000*wolfgang + 0.000*wolfgang puck + 0.000*ababa + 0.000*accessories')\n",
      "2018-03-06 00:32:24,205 : INFO : (17, '0.000*ethiopian + 0.000*marry + 0.000*puck + 0.000*bear + 0.000*chef + 0.000*designer + 0.000*wolfgang + 0.000*wolfgang puck + 0.000*ababa + 0.000*accessories')\n",
      "2018-03-06 00:32:24,365 : INFO : (18, '0.000*aaa + 0.000*aaa rat + 0.000*aachen + 0.000*aafia + 0.000*aafia siddiqui + 0.000*aah + 0.000*aamer + 0.000*aamir + 0.000*aamir iqbal + 0.000*aap')\n",
      "2018-03-06 00:32:24,526 : INFO : (19, '0.000*aaa + 0.000*aaa rat + 0.000*aachen + 0.000*aafia + 0.000*aafia siddiqui + 0.000*aah + 0.000*aamer + 0.000*aamir + 0.000*aamir iqbal + 0.000*aap')\n",
      "2018-03-06 00:32:24,541 : INFO : PROGRESS: finished document 69888 of 92579\n",
      "2018-03-06 00:33:52,697 : INFO : (0, '0.003*state + 0.002*world + 0.002*report + 0.002*president + 0.002*work + 0.002*government + 0.002*accord + 0.002*think + 0.002*unite + 0.002*police')\n",
      "2018-03-06 00:33:52,918 : INFO : (1, '0.000*aaa + 0.000*aaa rat + 0.000*aachen + 0.000*aafia + 0.000*aafia siddiqui + 0.000*aah + 0.000*aamer + 0.000*aamir + 0.000*aamir iqbal + 0.000*aap')\n",
      "2018-03-06 00:33:53,094 : INFO : (2, '0.000*aaa + 0.000*aaa rat + 0.000*aachen + 0.000*aafia + 0.000*aafia siddiqui + 0.000*aah + 0.000*aamer + 0.000*aamir + 0.000*aamir iqbal + 0.000*aap')\n",
      "2018-03-06 00:33:53,264 : INFO : (3, '0.000*aaa + 0.000*aaa rat + 0.000*aachen + 0.000*aafia + 0.000*aafia siddiqui + 0.000*aah + 0.000*aamer + 0.000*aamir + 0.000*aamir iqbal + 0.000*aap')\n",
      "2018-03-06 00:33:53,434 : INFO : (4, '0.000*aaa + 0.000*aaa rat + 0.000*aachen + 0.000*aafia + 0.000*aafia siddiqui + 0.000*aah + 0.000*aamer + 0.000*aamir + 0.000*aamir iqbal + 0.000*aap')\n",
      "2018-03-06 00:33:53,602 : INFO : (5, '0.000*aaa + 0.000*aaa rat + 0.000*aachen + 0.000*aafia + 0.000*aafia siddiqui + 0.000*aah + 0.000*aamer + 0.000*aamir + 0.000*aamir iqbal + 0.000*aap')\n",
      "2018-03-06 00:33:53,767 : INFO : (6, '0.000*aaa + 0.000*aaa rat + 0.000*aachen + 0.000*aafia + 0.000*aafia siddiqui + 0.000*aah + 0.000*aamer + 0.000*aamir + 0.000*aamir iqbal + 0.000*aap')\n",
      "2018-03-06 00:33:53,935 : INFO : (7, '0.000*aaa + 0.000*aaa rat + 0.000*aachen + 0.000*aafia + 0.000*aafia siddiqui + 0.000*aah + 0.000*aamer + 0.000*aamir + 0.000*aamir iqbal + 0.000*aap')\n",
      "2018-03-06 00:33:54,102 : INFO : (8, '0.000*aaa + 0.000*aaa rat + 0.000*aachen + 0.000*aafia + 0.000*aafia siddiqui + 0.000*aah + 0.000*aamer + 0.000*aamir + 0.000*aamir iqbal + 0.000*aap')\n",
      "2018-03-06 00:33:54,269 : INFO : (9, '0.000*aaa + 0.000*aaa rat + 0.000*aachen + 0.000*aafia + 0.000*aafia siddiqui + 0.000*aah + 0.000*aamer + 0.000*aamir + 0.000*aamir iqbal + 0.000*aap')\n",
      "2018-03-06 00:33:54,435 : INFO : (10, '0.000*aaa + 0.000*aaa rat + 0.000*aachen + 0.000*aafia + 0.000*aafia siddiqui + 0.000*aah + 0.000*aamer + 0.000*aamir + 0.000*aamir iqbal + 0.000*aap')\n",
      "2018-03-06 00:33:54,602 : INFO : (11, '0.000*aaa + 0.000*aaa rat + 0.000*aachen + 0.000*aafia + 0.000*aafia siddiqui + 0.000*aah + 0.000*aamer + 0.000*aamir + 0.000*aamir iqbal + 0.000*aap')\n",
      "2018-03-06 00:33:54,769 : INFO : (12, '0.000*aaa + 0.000*aaa rat + 0.000*aachen + 0.000*aafia + 0.000*aafia siddiqui + 0.000*aah + 0.000*aamer + 0.000*aamir + 0.000*aamir iqbal + 0.000*aap')\n",
      "2018-03-06 00:33:54,933 : INFO : (13, '0.000*aaa + 0.000*aaa rat + 0.000*aachen + 0.000*aafia + 0.000*aafia siddiqui + 0.000*aah + 0.000*aamer + 0.000*aamir + 0.000*aamir iqbal + 0.000*aap')\n",
      "2018-03-06 00:33:55,099 : INFO : (14, '0.000*aaa + 0.000*aaa rat + 0.000*aachen + 0.000*aafia + 0.000*aafia siddiqui + 0.000*aah + 0.000*aamer + 0.000*aamir + 0.000*aamir iqbal + 0.000*aap')\n",
      "2018-03-06 00:33:55,266 : INFO : (15, '0.000*aaa + 0.000*aaa rat + 0.000*aachen + 0.000*aafia + 0.000*aafia siddiqui + 0.000*aah + 0.000*aamer + 0.000*aamir + 0.000*aamir iqbal + 0.000*aap')\n",
      "2018-03-06 00:33:55,433 : INFO : (16, '0.000*aaa + 0.000*aaa rat + 0.000*aachen + 0.000*aafia + 0.000*aafia siddiqui + 0.000*aah + 0.000*aamer + 0.000*aamir + 0.000*aamir iqbal + 0.000*aap')\n",
      "2018-03-06 00:33:55,599 : INFO : (17, '0.000*aaa + 0.000*aaa rat + 0.000*aachen + 0.000*aafia + 0.000*aafia siddiqui + 0.000*aah + 0.000*aamer + 0.000*aamir + 0.000*aamir iqbal + 0.000*aap')\n",
      "2018-03-06 00:33:55,763 : INFO : (18, '0.000*aaa + 0.000*aaa rat + 0.000*aachen + 0.000*aafia + 0.000*aafia siddiqui + 0.000*aah + 0.000*aamer + 0.000*aamir + 0.000*aamir iqbal + 0.000*aap')\n",
      "2018-03-06 00:33:55,928 : INFO : (19, '0.000*aaa + 0.000*aaa rat + 0.000*aachen + 0.000*aafia + 0.000*aafia siddiqui + 0.000*aah + 0.000*aamer + 0.000*aamir + 0.000*aamir iqbal + 0.000*aap')\n",
      "2018-03-06 00:33:55,945 : INFO : PROGRESS: finished document 79872 of 92579\n",
      "2018-03-06 00:35:24,283 : INFO : (0, '0.003*state + 0.002*report + 0.002*world + 0.002*president + 0.002*work + 0.002*police + 0.002*government + 0.002*include + 0.002*day + 0.002*accord')\n",
      "2018-03-06 00:35:24,498 : INFO : (1, '0.000*aaa + 0.000*aaa rat + 0.000*aachen + 0.000*aafia + 0.000*aafia siddiqui + 0.000*aah + 0.000*aamer + 0.000*aamir + 0.000*aamir iqbal + 0.000*aap')\n",
      "2018-03-06 00:35:24,667 : INFO : (2, '0.000*aaa + 0.000*aaa rat + 0.000*aachen + 0.000*aafia + 0.000*aafia siddiqui + 0.000*aah + 0.000*aamer + 0.000*aamir + 0.000*aamir iqbal + 0.000*aap')\n",
      "2018-03-06 00:35:24,831 : INFO : (3, '0.000*aaa + 0.000*aaa rat + 0.000*aachen + 0.000*aafia + 0.000*aafia siddiqui + 0.000*aah + 0.000*aamer + 0.000*aamir + 0.000*aamir iqbal + 0.000*aap')\n",
      "2018-03-06 00:35:24,994 : INFO : (4, '0.000*aaa + 0.000*aaa rat + 0.000*aachen + 0.000*aafia + 0.000*aafia siddiqui + 0.000*aah + 0.000*aamer + 0.000*aamir + 0.000*aamir iqbal + 0.000*aap')\n"
     ]
    },
    {
     "name": "stderr",
     "output_type": "stream",
     "text": [
      "2018-03-06 00:35:25,156 : INFO : (5, '0.000*aaa + 0.000*aaa rat + 0.000*aachen + 0.000*aafia + 0.000*aafia siddiqui + 0.000*aah + 0.000*aamer + 0.000*aamir + 0.000*aamir iqbal + 0.000*aap')\n",
      "2018-03-06 00:35:25,317 : INFO : (6, '0.000*aaa + 0.000*aaa rat + 0.000*aachen + 0.000*aafia + 0.000*aafia siddiqui + 0.000*aah + 0.000*aamer + 0.000*aamir + 0.000*aamir iqbal + 0.000*aap')\n",
      "2018-03-06 00:35:25,477 : INFO : (7, '0.000*aaa + 0.000*aaa rat + 0.000*aachen + 0.000*aafia + 0.000*aafia siddiqui + 0.000*aah + 0.000*aamer + 0.000*aamir + 0.000*aamir iqbal + 0.000*aap')\n",
      "2018-03-06 00:35:25,638 : INFO : (8, '0.000*aaa + 0.000*aaa rat + 0.000*aachen + 0.000*aafia + 0.000*aafia siddiqui + 0.000*aah + 0.000*aamer + 0.000*aamir + 0.000*aamir iqbal + 0.000*aap')\n",
      "2018-03-06 00:35:25,799 : INFO : (9, '0.000*aaa + 0.000*aaa rat + 0.000*aachen + 0.000*aafia + 0.000*aafia siddiqui + 0.000*aah + 0.000*aamer + 0.000*aamir + 0.000*aamir iqbal + 0.000*aap')\n",
      "2018-03-06 00:35:25,958 : INFO : (10, '0.000*aaa + 0.000*aaa rat + 0.000*aachen + 0.000*aafia + 0.000*aafia siddiqui + 0.000*aah + 0.000*aamer + 0.000*aamir + 0.000*aamir iqbal + 0.000*aap')\n",
      "2018-03-06 00:35:26,119 : INFO : (11, '0.000*aaa + 0.000*aaa rat + 0.000*aachen + 0.000*aafia + 0.000*aafia siddiqui + 0.000*aah + 0.000*aamer + 0.000*aamir + 0.000*aamir iqbal + 0.000*aap')\n",
      "2018-03-06 00:35:26,280 : INFO : (12, '0.000*aaa + 0.000*aaa rat + 0.000*aachen + 0.000*aafia + 0.000*aafia siddiqui + 0.000*aah + 0.000*aamer + 0.000*aamir + 0.000*aamir iqbal + 0.000*aap')\n",
      "2018-03-06 00:35:26,440 : INFO : (13, '0.000*aaa + 0.000*aaa rat + 0.000*aachen + 0.000*aafia + 0.000*aafia siddiqui + 0.000*aah + 0.000*aamer + 0.000*aamir + 0.000*aamir iqbal + 0.000*aap')\n",
      "2018-03-06 00:35:26,601 : INFO : (14, '0.000*aaa + 0.000*aaa rat + 0.000*aachen + 0.000*aafia + 0.000*aafia siddiqui + 0.000*aah + 0.000*aamer + 0.000*aamir + 0.000*aamir iqbal + 0.000*aap')\n",
      "2018-03-06 00:35:26,761 : INFO : (15, '0.000*aaa + 0.000*aaa rat + 0.000*aachen + 0.000*aafia + 0.000*aafia siddiqui + 0.000*aah + 0.000*aamer + 0.000*aamir + 0.000*aamir iqbal + 0.000*aap')\n",
      "2018-03-06 00:35:26,921 : INFO : (16, '0.000*aaa + 0.000*aaa rat + 0.000*aachen + 0.000*aafia + 0.000*aafia siddiqui + 0.000*aah + 0.000*aamer + 0.000*aamir + 0.000*aamir iqbal + 0.000*aap')\n",
      "2018-03-06 00:35:27,081 : INFO : (17, '0.000*aaa + 0.000*aaa rat + 0.000*aachen + 0.000*aafia + 0.000*aafia siddiqui + 0.000*aah + 0.000*aamer + 0.000*aamir + 0.000*aamir iqbal + 0.000*aap')\n",
      "2018-03-06 00:35:27,242 : INFO : (18, '0.000*aaa + 0.000*aaa rat + 0.000*aachen + 0.000*aafia + 0.000*aafia siddiqui + 0.000*aah + 0.000*aamer + 0.000*aamir + 0.000*aamir iqbal + 0.000*aap')\n",
      "2018-03-06 00:35:27,402 : INFO : (19, '0.000*aaa + 0.000*aaa rat + 0.000*aachen + 0.000*aafia + 0.000*aafia siddiqui + 0.000*aah + 0.000*aamer + 0.000*aamir + 0.000*aamir iqbal + 0.000*aap')\n",
      "2018-03-06 00:35:27,417 : INFO : PROGRESS: finished document 89856 of 92579\n",
      "2018-03-06 00:35:56,407 : INFO : (0, '0.003*state + 0.002*report + 0.002*world + 0.002*president + 0.002*work + 0.002*think + 0.002*police + 0.002*government + 0.002*accord + 0.002*win')\n",
      "2018-03-06 00:35:56,622 : INFO : (1, '0.000*aaa + 0.000*aaa rat + 0.000*aachen + 0.000*aafia + 0.000*aafia siddiqui + 0.000*aah + 0.000*aamer + 0.000*aamir + 0.000*aamir iqbal + 0.000*aap')\n",
      "2018-03-06 00:35:56,794 : INFO : (2, '0.000*aaa + 0.000*aaa rat + 0.000*aachen + 0.000*aafia + 0.000*aafia siddiqui + 0.000*aah + 0.000*aamer + 0.000*aamir + 0.000*aamir iqbal + 0.000*aap')\n",
      "2018-03-06 00:35:56,962 : INFO : (3, '0.000*aaa + 0.000*aaa rat + 0.000*aachen + 0.000*aafia + 0.000*aafia siddiqui + 0.000*aah + 0.000*aamer + 0.000*aamir + 0.000*aamir iqbal + 0.000*aap')\n",
      "2018-03-06 00:35:57,128 : INFO : (4, '0.000*aaa + 0.000*aaa rat + 0.000*aachen + 0.000*aafia + 0.000*aafia siddiqui + 0.000*aah + 0.000*aamer + 0.000*aamir + 0.000*aamir iqbal + 0.000*aap')\n",
      "2018-03-06 00:35:57,294 : INFO : (5, '0.000*aaa + 0.000*aaa rat + 0.000*aachen + 0.000*aafia + 0.000*aafia siddiqui + 0.000*aah + 0.000*aamer + 0.000*aamir + 0.000*aamir iqbal + 0.000*aap')\n",
      "2018-03-06 00:35:57,457 : INFO : (6, '0.000*aaa + 0.000*aaa rat + 0.000*aachen + 0.000*aafia + 0.000*aafia siddiqui + 0.000*aah + 0.000*aamer + 0.000*aamir + 0.000*aamir iqbal + 0.000*aap')\n",
      "2018-03-06 00:35:57,620 : INFO : (7, '0.000*aaa + 0.000*aaa rat + 0.000*aachen + 0.000*aafia + 0.000*aafia siddiqui + 0.000*aah + 0.000*aamer + 0.000*aamir + 0.000*aamir iqbal + 0.000*aap')\n",
      "2018-03-06 00:35:57,784 : INFO : (8, '0.000*aaa + 0.000*aaa rat + 0.000*aachen + 0.000*aafia + 0.000*aafia siddiqui + 0.000*aah + 0.000*aamer + 0.000*aamir + 0.000*aamir iqbal + 0.000*aap')\n",
      "2018-03-06 00:35:57,947 : INFO : (9, '0.000*aaa + 0.000*aaa rat + 0.000*aachen + 0.000*aafia + 0.000*aafia siddiqui + 0.000*aah + 0.000*aamer + 0.000*aamir + 0.000*aamir iqbal + 0.000*aap')\n",
      "2018-03-06 00:35:58,112 : INFO : (10, '0.000*aaa + 0.000*aaa rat + 0.000*aachen + 0.000*aafia + 0.000*aafia siddiqui + 0.000*aah + 0.000*aamer + 0.000*aamir + 0.000*aamir iqbal + 0.000*aap')\n",
      "2018-03-06 00:35:58,277 : INFO : (11, '0.000*aaa + 0.000*aaa rat + 0.000*aachen + 0.000*aafia + 0.000*aafia siddiqui + 0.000*aah + 0.000*aamer + 0.000*aamir + 0.000*aamir iqbal + 0.000*aap')\n",
      "2018-03-06 00:35:58,440 : INFO : (12, '0.000*aaa + 0.000*aaa rat + 0.000*aachen + 0.000*aafia + 0.000*aafia siddiqui + 0.000*aah + 0.000*aamer + 0.000*aamir + 0.000*aamir iqbal + 0.000*aap')\n",
      "2018-03-06 00:35:58,605 : INFO : (13, '0.000*aaa + 0.000*aaa rat + 0.000*aachen + 0.000*aafia + 0.000*aafia siddiqui + 0.000*aah + 0.000*aamer + 0.000*aamir + 0.000*aamir iqbal + 0.000*aap')\n",
      "2018-03-06 00:35:58,769 : INFO : (14, '0.000*aaa + 0.000*aaa rat + 0.000*aachen + 0.000*aafia + 0.000*aafia siddiqui + 0.000*aah + 0.000*aamer + 0.000*aamir + 0.000*aamir iqbal + 0.000*aap')\n",
      "2018-03-06 00:35:58,932 : INFO : (15, '0.000*aaa + 0.000*aaa rat + 0.000*aachen + 0.000*aafia + 0.000*aafia siddiqui + 0.000*aah + 0.000*aamer + 0.000*aamir + 0.000*aamir iqbal + 0.000*aap')\n",
      "2018-03-06 00:35:59,096 : INFO : (16, '0.000*aaa + 0.000*aaa rat + 0.000*aachen + 0.000*aafia + 0.000*aafia siddiqui + 0.000*aah + 0.000*aamer + 0.000*aamir + 0.000*aamir iqbal + 0.000*aap')\n",
      "2018-03-06 00:35:59,260 : INFO : (17, '0.000*aaa + 0.000*aaa rat + 0.000*aachen + 0.000*aafia + 0.000*aafia siddiqui + 0.000*aah + 0.000*aamer + 0.000*aamir + 0.000*aamir iqbal + 0.000*aap')\n",
      "2018-03-06 00:35:59,425 : INFO : (18, '0.000*aaa + 0.000*aaa rat + 0.000*aachen + 0.000*aafia + 0.000*aafia siddiqui + 0.000*aah + 0.000*aamer + 0.000*aamir + 0.000*aamir iqbal + 0.000*aap')\n",
      "2018-03-06 00:35:59,589 : INFO : (19, '0.000*aaa + 0.000*aaa rat + 0.000*aachen + 0.000*aafia + 0.000*aafia siddiqui + 0.000*aah + 0.000*aamer + 0.000*aamir + 0.000*aamir iqbal + 0.000*aap')\n"
     ]
    }
   ],
   "source": [
    "logging.basicConfig(filename='~/gensim.log',\n",
    "                    format=\"%(asctime)s:%(levelname)s:%(message)s\",\n",
    "                    level=logging.INFO)\n",
    "\n",
    "hdpmodel = HdpModel(corpus=cv_2corpus, id2word=ld_words2idf,kappa=0.1,chunksize=256,)\n"
   ]
  },
  {
   "cell_type": "code",
   "execution_count": 60,
   "metadata": {
    "scrolled": true
   },
   "outputs": [
    {
     "data": {
      "text/plain": [
       "[(0,\n",
       "  '0.003*state + 0.002*report + 0.002*world + 0.002*president + 0.002*work + 0.002*think + 0.002*police + 0.002*government + 0.002*accord + 0.002*win + 0.001*right + 0.001*country + 0.001*help + 0.001*live + 0.001*don + 0.001*obama + 0.001*day + 0.001*need + 0.001*unite + 0.001*life'),\n",
       " (1,\n",
       "  '0.000*aaa + 0.000*aaa rat + 0.000*aachen + 0.000*aafia + 0.000*aafia siddiqui + 0.000*aah + 0.000*aamer + 0.000*aamir + 0.000*aamir iqbal + 0.000*aap + 0.000*aarhus + 0.000*aaron + 0.000*aaron alexis + 0.000*aaron carroll + 0.000*aaron cooper + 0.000*aaron david + 0.000*aaron eckhart + 0.000*aaron hernandez + 0.000*aaron lennon + 0.000*aaron miller'),\n",
       " (2,\n",
       "  '0.000*aaa + 0.000*aaa rat + 0.000*aachen + 0.000*aafia + 0.000*aafia siddiqui + 0.000*aah + 0.000*aamer + 0.000*aamir + 0.000*aamir iqbal + 0.000*aap + 0.000*aarhus + 0.000*aaron + 0.000*aaron alexis + 0.000*aaron carroll + 0.000*aaron cooper + 0.000*aaron david + 0.000*aaron eckhart + 0.000*aaron hernandez + 0.000*aaron lennon + 0.000*aaron miller'),\n",
       " (3,\n",
       "  '0.000*aaa + 0.000*aaa rat + 0.000*aachen + 0.000*aafia + 0.000*aafia siddiqui + 0.000*aah + 0.000*aamer + 0.000*aamir + 0.000*aamir iqbal + 0.000*aap + 0.000*aarhus + 0.000*aaron + 0.000*aaron alexis + 0.000*aaron carroll + 0.000*aaron cooper + 0.000*aaron david + 0.000*aaron eckhart + 0.000*aaron hernandez + 0.000*aaron lennon + 0.000*aaron miller'),\n",
       " (4,\n",
       "  '0.000*aaa + 0.000*aaa rat + 0.000*aachen + 0.000*aafia + 0.000*aafia siddiqui + 0.000*aah + 0.000*aamer + 0.000*aamir + 0.000*aamir iqbal + 0.000*aap + 0.000*aarhus + 0.000*aaron + 0.000*aaron alexis + 0.000*aaron carroll + 0.000*aaron cooper + 0.000*aaron david + 0.000*aaron eckhart + 0.000*aaron hernandez + 0.000*aaron lennon + 0.000*aaron miller'),\n",
       " (5,\n",
       "  '0.000*aaa + 0.000*aaa rat + 0.000*aachen + 0.000*aafia + 0.000*aafia siddiqui + 0.000*aah + 0.000*aamer + 0.000*aamir + 0.000*aamir iqbal + 0.000*aap + 0.000*aarhus + 0.000*aaron + 0.000*aaron alexis + 0.000*aaron carroll + 0.000*aaron cooper + 0.000*aaron david + 0.000*aaron eckhart + 0.000*aaron hernandez + 0.000*aaron lennon + 0.000*aaron miller'),\n",
       " (6,\n",
       "  '0.000*aaa + 0.000*aaa rat + 0.000*aachen + 0.000*aafia + 0.000*aafia siddiqui + 0.000*aah + 0.000*aamer + 0.000*aamir + 0.000*aamir iqbal + 0.000*aap + 0.000*aarhus + 0.000*aaron + 0.000*aaron alexis + 0.000*aaron carroll + 0.000*aaron cooper + 0.000*aaron david + 0.000*aaron eckhart + 0.000*aaron hernandez + 0.000*aaron lennon + 0.000*aaron miller'),\n",
       " (7,\n",
       "  '0.000*aaa + 0.000*aaa rat + 0.000*aachen + 0.000*aafia + 0.000*aafia siddiqui + 0.000*aah + 0.000*aamer + 0.000*aamir + 0.000*aamir iqbal + 0.000*aap + 0.000*aarhus + 0.000*aaron + 0.000*aaron alexis + 0.000*aaron carroll + 0.000*aaron cooper + 0.000*aaron david + 0.000*aaron eckhart + 0.000*aaron hernandez + 0.000*aaron lennon + 0.000*aaron miller'),\n",
       " (8,\n",
       "  '0.000*aaa + 0.000*aaa rat + 0.000*aachen + 0.000*aafia + 0.000*aafia siddiqui + 0.000*aah + 0.000*aamer + 0.000*aamir + 0.000*aamir iqbal + 0.000*aap + 0.000*aarhus + 0.000*aaron + 0.000*aaron alexis + 0.000*aaron carroll + 0.000*aaron cooper + 0.000*aaron david + 0.000*aaron eckhart + 0.000*aaron hernandez + 0.000*aaron lennon + 0.000*aaron miller'),\n",
       " (9,\n",
       "  '0.000*aaa + 0.000*aaa rat + 0.000*aachen + 0.000*aafia + 0.000*aafia siddiqui + 0.000*aah + 0.000*aamer + 0.000*aamir + 0.000*aamir iqbal + 0.000*aap + 0.000*aarhus + 0.000*aaron + 0.000*aaron alexis + 0.000*aaron carroll + 0.000*aaron cooper + 0.000*aaron david + 0.000*aaron eckhart + 0.000*aaron hernandez + 0.000*aaron lennon + 0.000*aaron miller'),\n",
       " (10,\n",
       "  '0.000*aaa + 0.000*aaa rat + 0.000*aachen + 0.000*aafia + 0.000*aafia siddiqui + 0.000*aah + 0.000*aamer + 0.000*aamir + 0.000*aamir iqbal + 0.000*aap + 0.000*aarhus + 0.000*aaron + 0.000*aaron alexis + 0.000*aaron carroll + 0.000*aaron cooper + 0.000*aaron david + 0.000*aaron eckhart + 0.000*aaron hernandez + 0.000*aaron lennon + 0.000*aaron miller'),\n",
       " (11,\n",
       "  '0.000*aaa + 0.000*aaa rat + 0.000*aachen + 0.000*aafia + 0.000*aafia siddiqui + 0.000*aah + 0.000*aamer + 0.000*aamir + 0.000*aamir iqbal + 0.000*aap + 0.000*aarhus + 0.000*aaron + 0.000*aaron alexis + 0.000*aaron carroll + 0.000*aaron cooper + 0.000*aaron david + 0.000*aaron eckhart + 0.000*aaron hernandez + 0.000*aaron lennon + 0.000*aaron miller'),\n",
       " (12,\n",
       "  '0.000*aaa + 0.000*aaa rat + 0.000*aachen + 0.000*aafia + 0.000*aafia siddiqui + 0.000*aah + 0.000*aamer + 0.000*aamir + 0.000*aamir iqbal + 0.000*aap + 0.000*aarhus + 0.000*aaron + 0.000*aaron alexis + 0.000*aaron carroll + 0.000*aaron cooper + 0.000*aaron david + 0.000*aaron eckhart + 0.000*aaron hernandez + 0.000*aaron lennon + 0.000*aaron miller'),\n",
       " (13,\n",
       "  '0.000*aaa + 0.000*aaa rat + 0.000*aachen + 0.000*aafia + 0.000*aafia siddiqui + 0.000*aah + 0.000*aamer + 0.000*aamir + 0.000*aamir iqbal + 0.000*aap + 0.000*aarhus + 0.000*aaron + 0.000*aaron alexis + 0.000*aaron carroll + 0.000*aaron cooper + 0.000*aaron david + 0.000*aaron eckhart + 0.000*aaron hernandez + 0.000*aaron lennon + 0.000*aaron miller'),\n",
       " (14,\n",
       "  '0.000*aaa + 0.000*aaa rat + 0.000*aachen + 0.000*aafia + 0.000*aafia siddiqui + 0.000*aah + 0.000*aamer + 0.000*aamir + 0.000*aamir iqbal + 0.000*aap + 0.000*aarhus + 0.000*aaron + 0.000*aaron alexis + 0.000*aaron carroll + 0.000*aaron cooper + 0.000*aaron david + 0.000*aaron eckhart + 0.000*aaron hernandez + 0.000*aaron lennon + 0.000*aaron miller'),\n",
       " (15,\n",
       "  '0.000*aaa + 0.000*aaa rat + 0.000*aachen + 0.000*aafia + 0.000*aafia siddiqui + 0.000*aah + 0.000*aamer + 0.000*aamir + 0.000*aamir iqbal + 0.000*aap + 0.000*aarhus + 0.000*aaron + 0.000*aaron alexis + 0.000*aaron carroll + 0.000*aaron cooper + 0.000*aaron david + 0.000*aaron eckhart + 0.000*aaron hernandez + 0.000*aaron lennon + 0.000*aaron miller'),\n",
       " (16,\n",
       "  '0.000*aaa + 0.000*aaa rat + 0.000*aachen + 0.000*aafia + 0.000*aafia siddiqui + 0.000*aah + 0.000*aamer + 0.000*aamir + 0.000*aamir iqbal + 0.000*aap + 0.000*aarhus + 0.000*aaron + 0.000*aaron alexis + 0.000*aaron carroll + 0.000*aaron cooper + 0.000*aaron david + 0.000*aaron eckhart + 0.000*aaron hernandez + 0.000*aaron lennon + 0.000*aaron miller'),\n",
       " (17,\n",
       "  '0.000*aaa + 0.000*aaa rat + 0.000*aachen + 0.000*aafia + 0.000*aafia siddiqui + 0.000*aah + 0.000*aamer + 0.000*aamir + 0.000*aamir iqbal + 0.000*aap + 0.000*aarhus + 0.000*aaron + 0.000*aaron alexis + 0.000*aaron carroll + 0.000*aaron cooper + 0.000*aaron david + 0.000*aaron eckhart + 0.000*aaron hernandez + 0.000*aaron lennon + 0.000*aaron miller'),\n",
       " (18,\n",
       "  '0.000*aaa + 0.000*aaa rat + 0.000*aachen + 0.000*aafia + 0.000*aafia siddiqui + 0.000*aah + 0.000*aamer + 0.000*aamir + 0.000*aamir iqbal + 0.000*aap + 0.000*aarhus + 0.000*aaron + 0.000*aaron alexis + 0.000*aaron carroll + 0.000*aaron cooper + 0.000*aaron david + 0.000*aaron eckhart + 0.000*aaron hernandez + 0.000*aaron lennon + 0.000*aaron miller'),\n",
       " (19,\n",
       "  '0.000*aaa + 0.000*aaa rat + 0.000*aachen + 0.000*aafia + 0.000*aafia siddiqui + 0.000*aah + 0.000*aamer + 0.000*aamir + 0.000*aamir iqbal + 0.000*aap + 0.000*aarhus + 0.000*aaron + 0.000*aaron alexis + 0.000*aaron carroll + 0.000*aaron cooper + 0.000*aaron david + 0.000*aaron eckhart + 0.000*aaron hernandez + 0.000*aaron lennon + 0.000*aaron miller')]"
      ]
     },
     "execution_count": 60,
     "metadata": {},
     "output_type": "execute_result"
    }
   ],
   "source": [
    "hdpmodel.show_topics()"
   ]
  },
  {
   "cell_type": "code",
   "execution_count": 9,
   "metadata": {},
   "outputs": [],
   "source": [
    "\n",
    "\n",
    "hdptopics = hdpmodel.show_topics(formatted=False)\n",
    "\n"
   ]
  },
  {
   "cell_type": "code",
   "execution_count": 61,
   "metadata": {},
   "outputs": [
    {
     "data": {
      "text/plain": [
       "(5,\n",
       " [('seed', 2.5054294309754296e-06),\n",
       "  ('open', 2.4873748733689836e-06),\n",
       "  ('win', 2.4768264575061804e-06),\n",
       "  ('round', 2.4618004363848928e-06),\n",
       "  ('world', 2.4573523144298459e-06),\n",
       "  ('set', 2.4551643732473392e-06),\n",
       "  ('beat', 2.4482482543469502e-06),\n",
       "  ('play', 2.4413152541643196e-06),\n",
       "  ('match', 2.4402021547350018e-06),\n",
       "  ('second', 2.4289178166231083e-06),\n",
       "  ('champion', 2.4197835228804673e-06),\n",
       "  ('nadal', 2.4171432064631474e-06),\n",
       "  ('final', 2.4057839643528229e-06),\n",
       "  ('federer', 2.404947543778116e-06),\n",
       "  ('reach', 2.4001232201956266e-06),\n",
       "  ('title', 2.3998247983461606e-06),\n",
       "  ('face', 2.3993447321677753e-06),\n",
       "  ('lose', 2.3988374896474556e-06),\n",
       "  ('victory', 2.3985005561045576e-06),\n",
       "  ('williams', 2.3972199668151954e-06)])"
      ]
     },
     "execution_count": 61,
     "metadata": {},
     "output_type": "execute_result"
    }
   ],
   "source": [
    "hdptopics[5]"
   ]
  },
  {
   "cell_type": "code",
   "execution_count": 62,
   "metadata": {},
   "outputs": [],
   "source": [
    "hdp_corpus = hdpmodel[cv_2corpus]"
   ]
  },
  {
   "cell_type": "code",
   "execution_count": 20,
   "metadata": {},
   "outputs": [
    {
     "data": {
      "text/plain": [
       "<gensim.interfaces.TransformedCorpus at 0x7f545ef27128>"
      ]
     },
     "execution_count": 20,
     "metadata": {},
     "output_type": "execute_result"
    }
   ],
   "source": [
    "hdp_corpus"
   ]
  },
  {
   "cell_type": "code",
   "execution_count": 63,
   "metadata": {},
   "outputs": [],
   "source": [
    "hdp_docs = [doc for doc in hdp_corpus]"
   ]
  },
  {
   "cell_type": "code",
   "execution_count": 54,
   "metadata": {},
   "outputs": [
    {
     "data": {
      "text/plain": [
       "[(0, 0.18968834459828651), (1, 0.81031137482434434)]"
      ]
     },
     "execution_count": 54,
     "metadata": {},
     "output_type": "execute_result"
    }
   ],
   "source": [
    "hdp_docs[6255]"
   ]
  },
  {
   "cell_type": "code",
   "execution_count": 64,
   "metadata": {},
   "outputs": [
    {
     "data": {
      "text/plain": [
       "[(0, 0.99999999190893629)]"
      ]
     },
     "execution_count": 64,
     "metadata": {},
     "output_type": "execute_result"
    }
   ],
   "source": [
    "hdp_docs[6255]"
   ]
  },
  {
   "cell_type": "code",
   "execution_count": 55,
   "metadata": {},
   "outputs": [
    {
     "data": {
      "text/plain": [
       "\"(CNN Student News) -- March 22, 2013\\n\\nDownload PDF maps related to today's show:\\n\\nIsrael\\nCyprus\\nSouth Korea; North Korea\\nPhiladelphia, Pennsylvania\\n\\nClick here to access the transcript of today's CNN Student News program.\\n\\nPlease note that there may be a delay between the time when the video is available and when the transcript is published.\\n\\n@highlight\\n\\nThe daily transcript is a written version of each day's CNN Student News program\\n\\n@highlight\\n\\nUse this transcript to help students with reading comprehension and vocabulary\\n\\n@highlight\\n\\nUse the weekly Newsquiz to test your knowledge of stories you saw on CNN Student News\""
      ]
     },
     "execution_count": 55,
     "metadata": {},
     "output_type": "execute_result"
    }
   ],
   "source": [
    "corpus[6255]"
   ]
  },
  {
   "cell_type": "code",
   "execution_count": 41,
   "metadata": {},
   "outputs": [],
   "source": [
    "\n",
    "topics=hdpmodel.show_topics(num_topics=20)\n",
    "topic_df=pd.DataFrame.from_records(topics,columns=[\"topic_id\",\"topic_terms\"])\n",
    "\n",
    "highest_score_topic_hdp_docs=[sorted(i,key=lambda x: x[1],reverse=True)[0] for i in hdp_docs]\n",
    "\n",
    "topics_by_documnent_numbers=pd.DataFrame(data=highest_score_topic_hdp_docs,columns=[\"topic_number\",\"topic_score\"])\n",
    "\n",
    "topics_by_documnent_numbers=topics_by_documnent_numbers.join(topic_df,on='topic_number')\n",
    "topics_by_documnent_numbers.drop(\"topic_id\",axis=1,inplace=True)\n",
    "\n",
    "docnument_number=topics_by_documnent_numbers.reset_index()\n",
    "\n",
    "topics_by_documnent_numbers=topics_by_documnent_numbers.reset_index()\n",
    "\n",
    "topics_by_documnent_numbers.rename(columns={\"index\":\"document_number\"},inplace=True)"
   ]
  },
  {
   "cell_type": "code",
   "execution_count": 43,
   "metadata": {},
   "outputs": [
    {
     "data": {
      "text/html": [
       "<div>\n",
       "<style>\n",
       "    .dataframe thead tr:only-child th {\n",
       "        text-align: right;\n",
       "    }\n",
       "\n",
       "    .dataframe thead th {\n",
       "        text-align: left;\n",
       "    }\n",
       "\n",
       "    .dataframe tbody tr th {\n",
       "        vertical-align: top;\n",
       "    }\n",
       "</style>\n",
       "<table border=\"1\" class=\"dataframe\">\n",
       "  <thead>\n",
       "    <tr style=\"text-align: right;\">\n",
       "      <th></th>\n",
       "      <th>document_number</th>\n",
       "      <th>topic_number</th>\n",
       "      <th>topic_score</th>\n",
       "      <th>topic_terms</th>\n",
       "    </tr>\n",
       "  </thead>\n",
       "  <tbody>\n",
       "    <tr>\n",
       "      <th>0</th>\n",
       "      <td>0</td>\n",
       "      <td>0</td>\n",
       "      <td>0.888095</td>\n",
       "      <td>0.003*state + 0.002*report + 0.002*world + 0.0...</td>\n",
       "    </tr>\n",
       "    <tr>\n",
       "      <th>1</th>\n",
       "      <td>1</td>\n",
       "      <td>0</td>\n",
       "      <td>0.917925</td>\n",
       "      <td>0.003*state + 0.002*report + 0.002*world + 0.0...</td>\n",
       "    </tr>\n",
       "  </tbody>\n",
       "</table>\n",
       "</div>"
      ],
      "text/plain": [
       "   document_number  topic_number  topic_score  \\\n",
       "0                0             0     0.888095   \n",
       "1                1             0     0.917925   \n",
       "\n",
       "                                         topic_terms  \n",
       "0  0.003*state + 0.002*report + 0.002*world + 0.0...  \n",
       "1  0.003*state + 0.002*report + 0.002*world + 0.0...  "
      ]
     },
     "execution_count": 43,
     "metadata": {},
     "output_type": "execute_result"
    }
   ],
   "source": [
    "topics_by_documnent_numbers.head(2)"
   ]
  },
  {
   "cell_type": "code",
   "execution_count": 56,
   "metadata": {},
   "outputs": [
    {
     "data": {
      "text/html": [
       "<div>\n",
       "<style>\n",
       "    .dataframe thead tr:only-child th {\n",
       "        text-align: right;\n",
       "    }\n",
       "\n",
       "    .dataframe thead th {\n",
       "        text-align: left;\n",
       "    }\n",
       "\n",
       "    .dataframe tbody tr th {\n",
       "        vertical-align: top;\n",
       "    }\n",
       "</style>\n",
       "<table border=\"1\" class=\"dataframe\">\n",
       "  <thead>\n",
       "    <tr style=\"text-align: right;\">\n",
       "      <th></th>\n",
       "      <th>document_number</th>\n",
       "      <th>topic_number</th>\n",
       "      <th>topic_score</th>\n",
       "      <th>topic_terms</th>\n",
       "    </tr>\n",
       "  </thead>\n",
       "  <tbody>\n",
       "  </tbody>\n",
       "</table>\n",
       "</div>"
      ],
      "text/plain": [
       "Empty DataFrame\n",
       "Columns: [document_number, topic_number, topic_score, topic_terms]\n",
       "Index: []"
      ]
     },
     "execution_count": 56,
     "metadata": {},
     "output_type": "execute_result"
    }
   ],
   "source": [
    "topics_by_documnent_numbers[topics_by_documnent_numbers.topic_number==10]"
   ]
  },
  {
   "cell_type": "code",
   "execution_count": 69,
   "metadata": {},
   "outputs": [
    {
     "name": "stdout",
     "output_type": "stream",
     "text": [
      "\n",
      "\u001b[1m\n",
      "Topic_terms: 0.003*state + 0.002*report + 0.002*world + 0.002*work + 0.002*president + 0.002*police + 0.002*think + 0.002*accord + 0.002*government + 0.002*include + 0.001*right + 0.001*win + 0.001*day + 0.001*obama + 0.001*group + 0.001*help + 0.001*unite + 0.001*country + 0.001*home + 0.001*kill \n",
      "\n",
      "Document (CNN) -- Across Mexico, young girls dream of escaping their small towns for the big cities. They dream of a good job and a better life in the United States.\n",
      "\n",
      "That was the case of \"Claudia,\" a name given to protect her identity.  Her dream of a better life quickly evolved into a nightmare.\n",
      "\n",
      "When she was 15, she met a charming man at a party who would later become her boyfriend.\n",
      "\n",
      "\"This individual would tell me a lot about the United States and would ask me to join him to go work at a clothes factory,\" she said.\n",
      "\n",
      "Claudia was eventually smuggled into the United States and taken to New York City.\n",
      "\n",
      "Once there, she soon realized her boyfriend was part of a prostitution ring. He forced her into prostitution. She says he would beat her up, burn her with lit cigarettes and tell her he would have her parents in Mexico killed if she tried to resist or escape.\n",
      "\n",
      "This is the first time Claudia is speaking about her experience. She's nervous, but says she wants to share her secret; a painful secret, she says, that the world needs to know about.\n",
      "\n",
      "Hers is a story of false promises, illegal immigration, verbal and physical abuse, drugs, forced prostitution and a risky escape.\n",
      "\n",
      "After being forced to work as a prostitute, Claudia says she started thinking about ways of escaping.\n",
      "\n",
      "\"It was a very traumatic experience,\" she said. \"The first day I started working was very hard because I had to sleep with 20 men in rapid sequence.\"\n",
      "\n",
      "For several months she saved up tips, just a few dollars at a time, that she would hide in a refrigerator. She discreetly would ask older women, who were also forced into prostitution, about directions to the nearest bus station and streets around the area.\n",
      "\n",
      "When she felt she had enough for a bus trip, she ran away to the bus station and bought a ticket to a city she didn't know.\n",
      "\n",
      "She has been a free woman for several years now, but she says she still suffers from nightmares and says her life has been scarred.\n",
      "\n",
      "Many people associate prostitution with women walkin ...\n"
     ]
    }
   ],
   "source": [
    "#prints text and topic_terms\n",
    "def get_document2topic(doc_number):\n",
    "    \n",
    "    return(topics_by_documnent_numbers[\"topic_terms\"].iloc[doc_number],corpus[doc_number][:2000])\n",
    "\n",
    "topic, text=get_document2topic(5890)\n",
    "print(\"\\n\"+\"\\033[1m\")\n",
    "print(\"Topic_terms:\" ,((topic)),\"\\n\")\n",
    "print(\"Document\",text,\"...\")"
   ]
  },
  {
   "cell_type": "code",
   "execution_count": null,
   "metadata": {},
   "outputs": [],
   "source": []
  },
  {
   "cell_type": "code",
   "execution_count": null,
   "metadata": {},
   "outputs": [],
   "source": []
  }
 ],
 "metadata": {
  "kernelspec": {
   "display_name": "Python 3",
   "language": "python",
   "name": "python3"
  },
  "language_info": {
   "codemirror_mode": {
    "name": "ipython",
    "version": 3
   },
   "file_extension": ".py",
   "mimetype": "text/x-python",
   "name": "python",
   "nbconvert_exporter": "python",
   "pygments_lexer": "ipython3",
   "version": "3.6.3"
  }
 },
 "nbformat": 4,
 "nbformat_minor": 2
}
